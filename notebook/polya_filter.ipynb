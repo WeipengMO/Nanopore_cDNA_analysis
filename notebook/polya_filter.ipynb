{
 "cells": [
  {
   "cell_type": "code",
   "execution_count": 1,
   "metadata": {},
   "outputs": [],
   "source": [
    "import pandas as pd\n",
    "import pysam\n",
    "import click\n",
    "from Bio import SeqIO\n",
    "import gzip"
   ]
  },
  {
   "cell_type": "code",
   "execution_count": 23,
   "metadata": {},
   "outputs": [],
   "source": [
    "polya_file = '/public/home/mowp/test/fast5_api/polyacaller.tsv'\n",
    "fastq_file = '/public/home/mowp/test/nanopore_cdna/trim_data/fhh.qcat.fastq.gz'\n",
    "out_fastq_file = 'test.fastq.gz'"
   ]
  },
  {
   "cell_type": "code",
   "execution_count": 19,
   "metadata": {},
   "outputs": [],
   "source": [
    "# load tail_length and read_type data\n",
    "df = pd.read_csv(polya_file, sep='\\t', index_col=0)\n",
    "tail_length = df['tail_length'].to_dict()\n",
    "polya_type = df['read_type'].map(lambda x: False if x=='polyT' else True).to_dict()"
   ]
  },
  {
   "cell_type": "code",
   "execution_count": 22,
   "metadata": {},
   "outputs": [
    {
     "data": {
      "text/plain": [
       "'/public/home/mowp/test/nanopore_cdna/notebook'"
      ]
     },
     "execution_count": 22,
     "metadata": {},
     "output_type": "execute_result"
    }
   ],
   "source": [
    "pwd"
   ]
  },
  {
   "cell_type": "code",
   "execution_count": null,
   "metadata": {},
   "outputs": [],
   "source": [
    "with gzip.open(fastq_file, 'rt') as f, gzip.open(out_fastq_file, 'wt') as o:\n",
    "    for read in SeqIO.parse(f, 'fastq'):\n",
    "        if read.id in tail_length:\n",
    "            if not polya_type[read.id]:\n",
    "                read.seq = read.seq.reverse_complement()\n",
    "            SeqIO.write(read, o, 'fastq')"
   ]
  },
  {
   "cell_type": "code",
   "execution_count": null,
   "metadata": {},
   "outputs": [],
   "source": [
    "@click.command()\n",
    "@click.option('-i', '--infile', required=True, help='Input fastq file.', type=click.Path(exists=True))\n",
    "@click.option('-p', '--polya_file', required=True, help='Input polya_file file.', type=click.Path(exists=True))\n",
    "@click.option('-o', '--outfile', required=True, help='Output adjust file.')\n",
    "def main(infile, outfile, polya_file):\n",
    "    # load tail_length and read_type data\n",
    "    df = pd.read_csv(polya_file, sep='\\t', index_col=0)\n",
    "    polya_type = df['read_type'].map(lambda x: False if x=='polyT' else True).to_dict()\n",
    "    \n",
    "    with gzip.open(infile, 'rt') as f, gzip.open(outfile, 'wt') as o:\n",
    "        for read in SeqIO.parse(f, 'fastq'):\n",
    "            if read.id in tail_length:\n",
    "                if not polya_type[read.id]:\n",
    "                    read.seq = read.seq.reverse_complement()\n",
    "                SeqIO.write(read, o, 'fastq')"
   ]
  }
 ],
 "metadata": {
  "kernelspec": {
   "display_name": "Python 3",
   "language": "python",
   "name": "python3"
  },
  "language_info": {
   "codemirror_mode": {
    "name": "ipython",
    "version": 3
   },
   "file_extension": ".py",
   "mimetype": "text/x-python",
   "name": "python",
   "nbconvert_exporter": "python",
   "pygments_lexer": "ipython3",
   "version": "3.7.6"
  }
 },
 "nbformat": 4,
 "nbformat_minor": 4
}
