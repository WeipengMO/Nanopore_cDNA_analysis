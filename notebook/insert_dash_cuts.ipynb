{
 "cells": [
  {
   "cell_type": "code",
   "execution_count": 1,
   "metadata": {},
   "outputs": [],
   "source": [
    "import pickle\n",
    "import click\n",
    "\n",
    "\n",
    "CONFIG = {'min_3dash_threshold': 10, 'min_3dash_peak_separation': 30, 'min_3dash_end_separation': 100, \n",
    "          'min_5dash_threshold': 10, 'min_5dash_peak_separation': 30, 'min_5dash_start_separation': 100, \n",
    "          'max_5dash_offset': 200}"
   ]
  },
  {
   "cell_type": "code",
   "execution_count": 14,
   "metadata": {},
   "outputs": [],
   "source": [
    "def clusterMean(cluster):\n",
    "    totalSites=0\n",
    "    totalPosition=0\n",
    "    #The mean is calculated proportionnaly to the number of sites or each position\n",
    "    for site in cluster:\n",
    "        totalSites += int(site[\"coverage\"])\n",
    "        totalPosition = totalPosition+(int(site[\"position\"])*int(site[\"coverage\"]))\n",
    "\n",
    "    return round(totalPosition/totalSites)"
   ]
  },
  {
   "cell_type": "code",
   "execution_count": 3,
   "metadata": {},
   "outputs": [],
   "source": [
    "in3dash_file = '../transitional/fhh.positive.3dash_positions.tsv'\n",
    "in5dash_file = '../transitional/fhh.positive.3dash_positions.tsv'\n",
    "output = '../transitional/fhh.positive.genelist.bed'\n",
    "chromosome_data = '../transitional/fhh.positive_genelist_incomplete.bed'"
   ]
  },
  {
   "cell_type": "code",
   "execution_count": 4,
   "metadata": {},
   "outputs": [],
   "source": [
    "if 'positive' in in3dash_file and 'positive' in in5dash_file:\n",
    "    strand = '+'\n",
    "elif 'negative' in in3dash_file and 'negative' in in5dash_file:\n",
    "    strand = '-'\n",
    "else:\n",
    "    raise NameError('input error')\n",
    "\n",
    "with open(f'{chromosome_data}.pydata', 'rb') as f:\n",
    "    chromosomeList = pickle.load(f)"
   ]
  },
  {
   "cell_type": "code",
   "execution_count": 6,
   "metadata": {},
   "outputs": [],
   "source": [
    "if 'positive' in in3dash_file and 'positive' in in5dash_file:\n",
    "    strand = '+'\n",
    "elif 'negative' in in3dash_file and 'negative' in in5dash_file:\n",
    "    strand = '-'\n",
    "else:\n",
    "    raise NameError('input error')\n",
    "\n",
    "with open(f'{chromosome_data}.pydata', 'rb') as f:\n",
    "    chromosomeList = pickle.load(f)"
   ]
  },
  {
   "cell_type": "code",
   "execution_count": 16,
   "metadata": {},
   "outputs": [],
   "source": [
    "for dash in ('3', '5'):\n",
    "    #Read the 3' or 5' coverage file o find clusters of start sites or end sites\n",
    "    currentDashSite = {\"chr\":None, \"position\":None, \"coverage\":None}  #The line read currently\n",
    "    lastDashSite = None  #The last line that had a coverage over theset threshold\n",
    "    currentCluster = []  #The current cluster of results\n",
    "    currentChr = None  #The current chromosome name\n",
    "    currentChrList = []  #The list 3' and 5' sites for the current chromosome\n",
    "    dashSiteList = {}  #The full list of relevant 3' or 5' sites\n",
    "    if dash == \"3\":\n",
    "        sourceFile = in3dash_file\n",
    "    elif dash == \"5\":\n",
    "        sourceFile = in5dash_file\n",
    "    # @sourceFile: reads 3'/5' 端覆盖度\n",
    "    # @sourceFile format: chro, pos, cov\n",
    "    #                     1  5743  1\n",
    "    with open(sourceFile, \"r\") as dashList:\n",
    "        for line in dashList:\n",
    "            currentDashSite[\"chr\"],  currentDashSite[\"position\"],  currentDashSite[\"coverage\"] = line.rstrip().split(\"\\t\")\n",
    "            #First check if we are entering a new chromosome\n",
    "            if currentDashSite[\"chr\"] != currentChr:\n",
    "                #if so, store the list of sites for the previous chromosome, then empty the list and reset the variables\n",
    "                if currentChr is not None:\n",
    "                    if currentCluster != []:\n",
    "                        currentChrList.append(clusterMean(currentCluster))\n",
    "                    dashSiteList[currentChr] = list(currentChrList)\n",
    "                currentCluster = []\n",
    "                currentChr=currentDashSite[\"chr\"]\n",
    "                currentChrList = []\n",
    "                lastDashSite = None\n",
    "\n",
    "            #lines with a coverage less than a threshold (min_3dash_threshold) are ignored\n",
    "            if int(currentDashSite[\"coverage\"]) > CONFIG[f\"min_{dash}dash_threshold\"]:\n",
    "                #Peaks within a distance of each other (min_3dash_peak_separation) are clustered together\n",
    "                if lastDashSite is None or int(currentDashSite[\"position\"])-int(lastDashSite[\"position\"]) < CONFIG[f\"min_{dash}dash_peak_separation\"]:\n",
    "                    currentCluster.append(dict(currentDashSite))\n",
    "                #If the peak is far enough from the last cluster, register the mean position for the peak and reset the cluster with our new result\n",
    "                else:\n",
    "                    #The mean position is stored in the current chromosome list\n",
    "                    if currentCluster != []:\n",
    "                        currentChrList.append(clusterMean(currentCluster))\n",
    "                    # 重置，计算下一个cluster\n",
    "                    currentCluster = []\n",
    "                    currentCluster.append(dict(currentDashSite))\n",
    "                #Once the site has been saved, keep it to compare it to the next\n",
    "                lastDashSite = dict(currentDashSite)\n",
    "\n",
    "    #Add the last chromosome list\n",
    "    if currentChr is not None:\n",
    "        currentChrList.append(clusterMean(currentCluster))\n",
    "        dashSiteList[currentChr] = list(currentChrList)\n",
    "    #The dashSiteList now contains every cut site given by our 3' or 5' file, organized by chomosome name\n",
    "    # dashSiteList 为上面结果汇总，为每一挑染色体上，每一个cluster的均值\n",
    "\n",
    "    #Copy the dash site list to the correct variable\n",
    "    if dash == \"3\":\n",
    "        dashSiteList3=dict(dashSiteList)\n",
    "    elif dash == \"5\":\n",
    "        dashSiteList5=dict(dashSiteList)\n"
   ]
  },
  {
   "cell_type": "code",
   "execution_count": 8,
   "metadata": {},
   "outputs": [
    {
     "data": {
      "text/plain": [
       "[{'start': 3859, 'end': 5903, 'strand': '+'},\n",
       " {'start': 26650, 'end': 31229, 'strand': '+'},\n",
       " {'start': 52216, 'end': 54730, 'strand': '+'},\n",
       " {'start': 72327, 'end': 74108, 'strand': '+'},\n",
       " {'start': 75723, 'end': 76678, 'strand': '+'},\n",
       " {'start': 88898, 'end': 90618, 'strand': '+'},\n",
       " {'start': 91421, 'end': 95667, 'strand': '+'},\n",
       " {'start': 96028, 'end': 97424, 'strand': '+'},\n",
       " {'start': 97475, 'end': 99241, 'strand': '+'},\n",
       " {'start': 99920, 'end': 101841, 'strand': '+'}]"
      ]
     },
     "execution_count": 8,
     "metadata": {},
     "output_type": "execute_result"
    }
   ],
   "source": [
    "chromosomeList['1'][:10]"
   ]
  },
  {
   "cell_type": "code",
   "execution_count": 18,
   "metadata": {},
   "outputs": [
    {
     "data": {
      "text/plain": [
       "[74049, 74095, 89752, 95665, 99239, 116153, 118543, 118644, 118744, 138083]"
      ]
     },
     "execution_count": 18,
     "metadata": {},
     "output_type": "execute_result"
    }
   ],
   "source": [
    "dashSiteList['1'][:10]"
   ]
  },
  {
   "cell_type": "code",
   "execution_count": null,
   "metadata": {},
   "outputs": [],
   "source": []
  }
 ],
 "metadata": {
  "kernelspec": {
   "display_name": "Python 3",
   "language": "python",
   "name": "python3"
  },
  "language_info": {
   "codemirror_mode": {
    "name": "ipython",
    "version": 3
   },
   "file_extension": ".py",
   "mimetype": "text/x-python",
   "name": "python",
   "nbconvert_exporter": "python",
   "pygments_lexer": "ipython3",
   "version": "3.7.6"
  }
 },
 "nbformat": 4,
 "nbformat_minor": 4
}
