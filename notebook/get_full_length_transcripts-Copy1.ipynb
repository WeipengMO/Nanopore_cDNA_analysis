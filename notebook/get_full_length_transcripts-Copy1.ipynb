{
 "cells": [
  {
   "cell_type": "code",
   "execution_count": 1,
   "metadata": {},
   "outputs": [],
   "source": [
    "import pysam\n",
    "import pandas as pd"
   ]
  },
  {
   "cell_type": "code",
   "execution_count": 2,
   "metadata": {},
   "outputs": [
    {
     "data": {
      "text/html": [
       "<div>\n",
       "<style scoped>\n",
       "    .dataframe tbody tr th:only-of-type {\n",
       "        vertical-align: middle;\n",
       "    }\n",
       "\n",
       "    .dataframe tbody tr th {\n",
       "        vertical-align: top;\n",
       "    }\n",
       "\n",
       "    .dataframe thead th {\n",
       "        text-align: right;\n",
       "    }\n",
       "</style>\n",
       "<table border=\"1\" class=\"dataframe\">\n",
       "  <thead>\n",
       "    <tr style=\"text-align: right;\">\n",
       "      <th></th>\n",
       "      <th>transcript_id</th>\n",
       "      <th>exon_num</th>\n",
       "      <th>seqid</th>\n",
       "      <th>start</th>\n",
       "      <th>end</th>\n",
       "      <th>strand</th>\n",
       "    </tr>\n",
       "    <tr>\n",
       "      <th>gene_id</th>\n",
       "      <th></th>\n",
       "      <th></th>\n",
       "      <th></th>\n",
       "      <th></th>\n",
       "      <th></th>\n",
       "      <th></th>\n",
       "    </tr>\n",
       "  </thead>\n",
       "  <tbody>\n",
       "    <tr>\n",
       "      <th>AT1G01010</th>\n",
       "      <td>AT1G01010.1</td>\n",
       "      <td>exon1</td>\n",
       "      <td>1</td>\n",
       "      <td>3631</td>\n",
       "      <td>3913</td>\n",
       "      <td>+</td>\n",
       "    </tr>\n",
       "    <tr>\n",
       "      <th>AT1G01020</th>\n",
       "      <td>AT1G01020.1</td>\n",
       "      <td>exon1</td>\n",
       "      <td>1</td>\n",
       "      <td>8571</td>\n",
       "      <td>9130</td>\n",
       "      <td>-</td>\n",
       "    </tr>\n",
       "    <tr>\n",
       "      <th>AT1G01030</th>\n",
       "      <td>AT1G01030.1</td>\n",
       "      <td>exon1</td>\n",
       "      <td>1</td>\n",
       "      <td>13335</td>\n",
       "      <td>13714</td>\n",
       "      <td>-</td>\n",
       "    </tr>\n",
       "    <tr>\n",
       "      <th>AT1G01040</th>\n",
       "      <td>AT1G01040.2</td>\n",
       "      <td>exon1</td>\n",
       "      <td>1</td>\n",
       "      <td>23416</td>\n",
       "      <td>24451</td>\n",
       "      <td>+</td>\n",
       "    </tr>\n",
       "    <tr>\n",
       "      <th>AT1G01050</th>\n",
       "      <td>AT1G01050.1</td>\n",
       "      <td>exon1</td>\n",
       "      <td>1</td>\n",
       "      <td>33029</td>\n",
       "      <td>33171</td>\n",
       "      <td>-</td>\n",
       "    </tr>\n",
       "  </tbody>\n",
       "</table>\n",
       "</div>"
      ],
      "text/plain": [
       "          transcript_id exon_num seqid  start    end strand\n",
       "gene_id                                                    \n",
       "AT1G01010   AT1G01010.1    exon1     1   3631   3913      +\n",
       "AT1G01020   AT1G01020.1    exon1     1   8571   9130      -\n",
       "AT1G01030   AT1G01030.1    exon1     1  13335  13714      -\n",
       "AT1G01040   AT1G01040.2    exon1     1  23416  24451      +\n",
       "AT1G01050   AT1G01050.1    exon1     1  33029  33171      -"
      ]
     },
     "execution_count": 2,
     "metadata": {},
     "output_type": "execute_result"
    }
   ],
   "source": [
    "first_exon_path = '/public/home/mowp/test/nanopore_cdna/supplementary_data/representative_gene_model/representative_gene_first_exon.tsv'\n",
    "first_exon_df = pd.read_csv(first_exon_path, sep='\\t', index_col=0)\n",
    "first_exon_df.head()"
   ]
  },
  {
   "cell_type": "code",
   "execution_count": 8,
   "metadata": {},
   "outputs": [
    {
     "data": {
      "text/plain": [
       "{'transcript_id': 'AT1G01010.1',\n",
       " 'exon_num': 'exon1',\n",
       " 'seqid': '1',\n",
       " 'start': 3631,\n",
       " 'end': 3913,\n",
       " 'strand': '+'}"
      ]
     },
     "execution_count": 8,
     "metadata": {},
     "output_type": "execute_result"
    }
   ],
   "source": [
    "first_exon_dict = first_exon_df.to_dict(orient='index')\n",
    "# show example\n",
    "first_exon_dict['AT1G01010']"
   ]
  },
  {
   "cell_type": "code",
   "execution_count": null,
   "metadata": {},
   "outputs": [],
   "source": [
    "infile = '/public/home/mowp/test/nanopore_cdna/aligned_data/fhh.tagged.mm2.sorted.bam'\n",
    "with pysam.AlignmentFile(infile, 'rb') as inbam:\n",
    "    for read in inbam:\n",
    "        read_gene_id = read.get_tags()[-2][1]\n",
    "        if read_gene_id in first_exon_dict:\n",
    "            if (first_exon_dict[read_gene_id]['strand'] == '+' and \n",
    "                read.reference_start <= first_exon_dict[read_gene_id]['end']):\n",
    "                #print(read)\n",
    "                #break\n",
    "                pass\n",
    "            elif (first_exon_dict[read_gene_id]['strand'] == '-' and\n",
    "                 read.reference_end >= first_exon_dict[read_gene_id]['start']):\n",
    "                print(read)\n",
    "                break"
   ]
  },
  {
   "cell_type": "code",
   "execution_count": 25,
   "metadata": {},
   "outputs": [
    {
     "data": {
      "text/plain": [
       "{'transcript_id': 'AT1G01020.1',\n",
       " 'exon_num': 'exon1',\n",
       " 'seqid': '1',\n",
       " 'start': 8571,\n",
       " 'end': 9130,\n",
       " 'strand': '-'}"
      ]
     },
     "execution_count": 25,
     "metadata": {},
     "output_type": "execute_result"
    }
   ],
   "source": [
    "first_exon_dict[read_gene_id]"
   ]
  },
  {
   "cell_type": "code",
   "execution_count": 26,
   "metadata": {},
   "outputs": [
    {
     "data": {
      "text/plain": [
       "6766"
      ]
     },
     "execution_count": 26,
     "metadata": {},
     "output_type": "execute_result"
    }
   ],
   "source": [
    "read.reference_start"
   ]
  },
  {
   "cell_type": "code",
   "execution_count": 27,
   "metadata": {},
   "outputs": [
    {
     "data": {
      "text/plain": [
       "True"
      ]
     },
     "execution_count": 27,
     "metadata": {},
     "output_type": "execute_result"
    }
   ],
   "source": [
    "read.reference_start <= first_exon_dict[read_gene_id]['end']"
   ]
  },
  {
   "cell_type": "code",
   "execution_count": 28,
   "metadata": {},
   "outputs": [
    {
     "data": {
      "text/plain": [
       "9130"
      ]
     },
     "execution_count": 28,
     "metadata": {},
     "output_type": "execute_result"
    }
   ],
   "source": [
    "first_exon_dict[read_gene_id]['end']"
   ]
  },
  {
   "cell_type": "code",
   "execution_count": null,
   "metadata": {},
   "outputs": [],
   "source": []
  }
 ],
 "metadata": {
  "kernelspec": {
   "display_name": "Python 3",
   "language": "python",
   "name": "python3"
  },
  "language_info": {
   "codemirror_mode": {
    "name": "ipython",
    "version": 3
   },
   "file_extension": ".py",
   "mimetype": "text/x-python",
   "name": "python",
   "nbconvert_exporter": "python",
   "pygments_lexer": "ipython3",
   "version": "3.7.6"
  }
 },
 "nbformat": 4,
 "nbformat_minor": 4
}
