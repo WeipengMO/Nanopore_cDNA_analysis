{
 "cells": [
  {
   "cell_type": "code",
   "execution_count": 1,
   "metadata": {},
   "outputs": [],
   "source": [
    "from scipy import stats\n",
    "import gzip\n",
    "from collections import Counter\n",
    "import math\n",
    "import matplotlib.pyplot as plt\n",
    "import matplotlib.ticker as ticker\n",
    "import matplotlib.patches as mp\n",
    "import pandas as pd\n",
    "import numpy as np\n",
    "import pysam\n",
    "from Bio import SeqIO"
   ]
  },
  {
   "cell_type": "markdown",
   "metadata": {},
   "source": [
    "# load Araport11_gene_type"
   ]
  },
  {
   "cell_type": "code",
   "execution_count": 2,
   "metadata": {},
   "outputs": [],
   "source": [
    "araport11_gene_type = '/public/home/mowp/db/Arabidopsis_thaliana/Araport11_gene_type'\n",
    "araport11_gene_type_df = pd.read_csv(araport11_gene_type, sep='\\t', comment='!')\n",
    "araport11_gene_type_df['is_coding'] = araport11_gene_type_df['gene_model_type'].map(lambda x: True if x=='protein_coding' else False)"
   ]
  },
  {
   "cell_type": "code",
   "execution_count": 3,
   "metadata": {},
   "outputs": [
    {
     "data": {
      "text/html": [
       "<div>\n",
       "<style scoped>\n",
       "    .dataframe tbody tr th:only-of-type {\n",
       "        vertical-align: middle;\n",
       "    }\n",
       "\n",
       "    .dataframe tbody tr th {\n",
       "        vertical-align: top;\n",
       "    }\n",
       "\n",
       "    .dataframe thead th {\n",
       "        text-align: right;\n",
       "    }\n",
       "</style>\n",
       "<table border=\"1\" class=\"dataframe\">\n",
       "  <thead>\n",
       "    <tr style=\"text-align: right;\">\n",
       "      <th></th>\n",
       "      <th>name</th>\n",
       "      <th>gene_model_type</th>\n",
       "      <th>is_coding</th>\n",
       "    </tr>\n",
       "  </thead>\n",
       "  <tbody>\n",
       "    <tr>\n",
       "      <th>0</th>\n",
       "      <td>AT1G01010</td>\n",
       "      <td>protein_coding</td>\n",
       "      <td>True</td>\n",
       "    </tr>\n",
       "    <tr>\n",
       "      <th>1</th>\n",
       "      <td>AT1G01020</td>\n",
       "      <td>protein_coding</td>\n",
       "      <td>True</td>\n",
       "    </tr>\n",
       "    <tr>\n",
       "      <th>2</th>\n",
       "      <td>AT1G01030</td>\n",
       "      <td>protein_coding</td>\n",
       "      <td>True</td>\n",
       "    </tr>\n",
       "    <tr>\n",
       "      <th>3</th>\n",
       "      <td>AT1G01040</td>\n",
       "      <td>protein_coding</td>\n",
       "      <td>True</td>\n",
       "    </tr>\n",
       "    <tr>\n",
       "      <th>4</th>\n",
       "      <td>AT1G01046</td>\n",
       "      <td>miRNA_primary_transcript</td>\n",
       "      <td>False</td>\n",
       "    </tr>\n",
       "    <tr>\n",
       "      <th>...</th>\n",
       "      <td>...</td>\n",
       "      <td>...</td>\n",
       "      <td>...</td>\n",
       "    </tr>\n",
       "    <tr>\n",
       "      <th>38197</th>\n",
       "      <td>ATMG09800</td>\n",
       "      <td>pseudogene</td>\n",
       "      <td>False</td>\n",
       "    </tr>\n",
       "    <tr>\n",
       "      <th>38198</th>\n",
       "      <td>ATMG09830</td>\n",
       "      <td>pseudogene</td>\n",
       "      <td>False</td>\n",
       "    </tr>\n",
       "    <tr>\n",
       "      <th>38199</th>\n",
       "      <td>ATMG09950</td>\n",
       "      <td>pre_trna</td>\n",
       "      <td>False</td>\n",
       "    </tr>\n",
       "    <tr>\n",
       "      <th>38200</th>\n",
       "      <td>ATMG09960</td>\n",
       "      <td>pre_trna</td>\n",
       "      <td>False</td>\n",
       "    </tr>\n",
       "    <tr>\n",
       "      <th>38201</th>\n",
       "      <td>ATMG09980</td>\n",
       "      <td>pre_trna</td>\n",
       "      <td>False</td>\n",
       "    </tr>\n",
       "  </tbody>\n",
       "</table>\n",
       "<p>38202 rows × 3 columns</p>\n",
       "</div>"
      ],
      "text/plain": [
       "            name           gene_model_type  is_coding\n",
       "0      AT1G01010            protein_coding       True\n",
       "1      AT1G01020            protein_coding       True\n",
       "2      AT1G01030            protein_coding       True\n",
       "3      AT1G01040            protein_coding       True\n",
       "4      AT1G01046  miRNA_primary_transcript      False\n",
       "...          ...                       ...        ...\n",
       "38197  ATMG09800                pseudogene      False\n",
       "38198  ATMG09830                pseudogene      False\n",
       "38199  ATMG09950                  pre_trna      False\n",
       "38200  ATMG09960                  pre_trna      False\n",
       "38201  ATMG09980                  pre_trna      False\n",
       "\n",
       "[38202 rows x 3 columns]"
      ]
     },
     "execution_count": 3,
     "metadata": {},
     "output_type": "execute_result"
    }
   ],
   "source": [
    "araport11_gene_type_df"
   ]
  },
  {
   "cell_type": "code",
   "execution_count": 6,
   "metadata": {},
   "outputs": [
    {
     "data": {
      "text/plain": [
       "gene_model_type\n",
       "antisense_long_noncoding_rna     1037\n",
       "antisense_rna                      78\n",
       "long_noncoding_rna               2444\n",
       "miRNA_primary_transcript          324\n",
       "novel_transcribed_region          509\n",
       "other_rna                         221\n",
       "pre_trna                          697\n",
       "protein_coding                  27662\n",
       "pseudogene                        945\n",
       "ribosomal_rna                      15\n",
       "small_nuclear_rna                  82\n",
       "small_nucleolar_rna               287\n",
       "transposable_element_gene        3901\n",
       "Name: name, dtype: int64"
      ]
     },
     "execution_count": 6,
     "metadata": {},
     "output_type": "execute_result"
    }
   ],
   "source": [
    "araport11_gene_type_df.groupby(['gene_model_type']).count()['name']"
   ]
  },
  {
   "cell_type": "code",
   "execution_count": 35,
   "metadata": {},
   "outputs": [],
   "source": [
    "coding_gene_set = set(araport11_gene_type_df[araport11_gene_type_df['is_coding']]['name'])"
   ]
  },
  {
   "cell_type": "markdown",
   "metadata": {},
   "source": [
    "# full-length read counts per gene"
   ]
  },
  {
   "cell_type": "code",
   "execution_count": 45,
   "metadata": {},
   "outputs": [],
   "source": [
    "def gene_count(bam_path):\n",
    "    '''\n",
    "    计算比对到protein coding gene的full length reads数\n",
    "    '''\n",
    "    gene_count = Counter()  # 计数器\n",
    "    for gene_id in coding_gene_set:\n",
    "        gene_count[gene_id] = 0\n",
    "\n",
    "    with pysam.AlignmentFile(bam_path, 'rb') as bam:\n",
    "        for read in bam:\n",
    "            tags = read.get_tags()\n",
    "            for tag, value in tags[::-1]:\n",
    "                if tag == 'gi':\n",
    "                    gene_count[value] += 1\n",
    "                    break\n",
    "    return gene_count"
   ]
  },
  {
   "cell_type": "code",
   "execution_count": 60,
   "metadata": {},
   "outputs": [],
   "source": [
    "def get_read_per_gene(gene_count_value):\n",
    "    '''分布直方图\n",
    "    input:\n",
    "        gene_count.values()\n",
    "    return:\n",
    "        x: log10(read_count+1)\n",
    "        y: gene_count\n",
    "    '''\n",
    "    gene_count_value = np.log10(np.array(list(gene_count_value))+1)\n",
    "    i = 0\n",
    "    x, y = [], []\n",
    "    while i < max(pbcounts):\n",
    "        mask = (gene_count_value <= i) & (gene_count_value > i-0.2)\n",
    "        y.append(len(gene_count_value[mask]))\n",
    "        x.append(i)\n",
    "        i += 0.2\n",
    "    print(f'mapping to protein coding gene: {len(gene_count_value[gene_count_value>0])/len(gene_count_value)*100:0.2f}%')\n",
    "    return x, y"
   ]
  },
  {
   "cell_type": "markdown",
   "metadata": {},
   "source": [
    "## pacbio data"
   ]
  },
  {
   "cell_type": "code",
   "execution_count": 55,
   "metadata": {},
   "outputs": [
    {
     "name": "stdout",
     "output_type": "stream",
     "text": [
      "CPU times: user 18.5 s, sys: 103 ms, total: 18.6 s\n",
      "Wall time: 18.6 s\n"
     ]
    }
   ],
   "source": [
    "%%time\n",
    "pb_bam_path = '/public/home/mowp/data/pacbio_cdna/full_length_transcripts/isoseq.full_length.sorted.bam'\n",
    "pb_gene_count = gene_count(pb_bam_path)"
   ]
  },
  {
   "cell_type": "code",
   "execution_count": 61,
   "metadata": {},
   "outputs": [
    {
     "name": "stdout",
     "output_type": "stream",
     "text": [
      "mapping to protein coding gene: 74.60%\n"
     ]
    },
    {
     "data": {
      "image/png": "[encoded data removed]",
      "text/plain": [
       "<Figure size 432x144 with 1 Axes>"
      ]
     },
     "metadata": {
      "needs_background": "light"
     },
     "output_type": "display_data"
    }
   ],
   "source": [
    "x, y = get_read_per_gene(pb_gene_count.values())\n",
    "\n",
    "plt.figure(figsize=(6, 2))\n",
    "plt.bar(x, y, width=0.2)\n",
    "plt.xlabel('log10(read counts +1)')\n",
    "plt.ylabel('gene counts')\n",
    "plt.show()"
   ]
  },
  {
   "cell_type": "markdown",
   "metadata": {},
   "source": [
    "## nanopore data"
   ]
  },
  {
   "cell_type": "code",
   "execution_count": 50,
   "metadata": {},
   "outputs": [
    {
     "name": "stdout",
     "output_type": "stream",
     "text": [
      "CPU times: user 1min 1s, sys: 1.53 s, total: 1min 3s\n",
      "Wall time: 1min 3s\n"
     ]
    }
   ],
   "source": [
    "%%time\n",
    "nano_bam_path = '/public/home/mowp/test/nanopore_cdna/full_length_transcripts/fhh.full_length.sorted.bam'\n",
    "nano_gene_count = gene_count(nano_bam_path)"
   ]
  },
  {
   "cell_type": "code",
   "execution_count": 62,
   "metadata": {},
   "outputs": [
    {
     "name": "stdout",
     "output_type": "stream",
     "text": [
      "mapping to protein coding gene: 77.95%\n"
     ]
    },
    {
     "data": {
      "image/png": "[encoded data removed]",
      "text/plain": [
       "<Figure size 432x144 with 1 Axes>"
      ]
     },
     "metadata": {
      "needs_background": "light"
     },
     "output_type": "display_data"
    }
   ],
   "source": [
    "x, y = get_read_per_gene(nano_gene_count.values())\n",
    "\n",
    "plt.figure(figsize=(6, 2))\n",
    "plt.bar(x, y, width=0.2)\n",
    "plt.xlabel('log10(read counts +1)')\n",
    "plt.ylabel('gene counts')\n",
    "plt.show()"
   ]
  },
  {
   "cell_type": "markdown",
   "metadata": {},
   "source": [
    "# mapped read length distribution"
   ]
  },
  {
   "cell_type": "code",
   "execution_count": 93,
   "metadata": {},
   "outputs": [],
   "source": [
    "def get_read_length_from_fastq(read_path):\n",
    "    read_len = []\n",
    "    with gzip.open(read_path, 'rt') as f:\n",
    "        for read in SeqIO.parse(f, 'fastq'):\n",
    "            read_len.append(len(read.seq))\n",
    "    return np.array(read_len)"
   ]
  },
  {
   "cell_type": "code",
   "execution_count": 146,
   "metadata": {},
   "outputs": [],
   "source": [
    "def get_read_length_from_bam(bam_path):\n",
    "    read_len = []\n",
    "    with pysam.AlignmentFile(bam_path, 'rb') as bam:\n",
    "        for read in bam:\n",
    "            if not read.is_unmapped:\n",
    "                for read in bam:\n",
    "                    read_len.append(read.query_length)\n",
    "    return np.array(read_len)"
   ]
  },
  {
   "cell_type": "markdown",
   "metadata": {},
   "source": [
    "## pacbio data"
   ]
  },
  {
   "cell_type": "markdown",
   "metadata": {},
   "source": [
    "### pacbio raw read length"
   ]
  },
  {
   "cell_type": "code",
   "execution_count": 153,
   "metadata": {},
   "outputs": [],
   "source": [
    "# pacbio mapped read length\n",
    "pb_read_path = '/public/home/mowp/data/pacbio_cdna/aligned_data/isoseq.tagged.mm2.sorted.bam'\n",
    "pb_raw_read_length = get_read_length_from_bam(pb_read_path)\n",
    "# save data\n",
    "with open('pb_raw_read_length.npy', 'wb') as o:\n",
    "    np.save(o, pb_raw_read_length)"
   ]
  },
  {
   "cell_type": "code",
   "execution_count": 154,
   "metadata": {},
   "outputs": [
    {
     "data": {
      "image/png": "[encoded data removed]",
      "text/plain": [
       "<Figure size 432x288 with 1 Axes>"
      ]
     },
     "metadata": {
      "needs_background": "light"
     },
     "output_type": "display_data"
    },
    {
     "data": {
      "text/plain": [
       "DescribeResult(nobs=1821580, minmax=(80, 8671), mean=1032.1265395974922, variance=441683.76543667336, skewness=1.393121498699833, kurtosis=3.0176829184772878)"
      ]
     },
     "execution_count": 154,
     "metadata": {},
     "output_type": "execute_result"
    }
   ],
   "source": [
    "xlim = 6000\n",
    "bins = np.arange(0, xlim, 100)\n",
    "plt.hist(pb_raw_read_length[pb_raw_read_length<=xlim], bins=bins, density=True)\n",
    "plt.xlim(0, xlim)\n",
    "plt.xlabel('Read length (nt)')\n",
    "plt.ylabel('Density')\n",
    "plt.show()\n",
    "pb_raw_stats = stats.describe(pb_raw_read_length)\n",
    "pb_raw_stats"
   ]
  },
  {
   "cell_type": "markdown",
   "metadata": {},
   "source": [
    "### pacbio full length read"
   ]
  },
  {
   "cell_type": "code",
   "execution_count": 155,
   "metadata": {},
   "outputs": [
    {
     "data": {
      "image/png": "[encoded data removed]",
      "text/plain": [
       "<Figure size 432x288 with 1 Axes>"
      ]
     },
     "metadata": {
      "needs_background": "light"
     },
     "output_type": "display_data"
    }
   ],
   "source": [
    "pb_fl_read_path = '/public/home/mowp/data/pacbio_cdna/full_length_transcripts/isoseq.full_length.sorted.bam'\n",
    "pb_fl_read_length = get_read_length_from_bam(pb_fl_read_path)\n",
    "# save data\n",
    "with open('pb_fl_read_length.npy', 'wb') as o:\n",
    "    np.save(o, pb_fl_read_length)\n",
    "\n",
    "xlim = 6000\n",
    "bins = np.arange(0, xlim, 100)\n",
    "plt.hist(pb_fl_read_length[pb_fl_read_length<=xlim], bins=bins, density=True)\n",
    "plt.xlim(0, xlim)\n",
    "plt.xlabel('Read length (nt)')\n",
    "plt.ylabel('Density')\n",
    "plt.show()\n",
    "pb_fl_stats = stats.describe(pb_fl_read_length)"
   ]
  },
  {
   "cell_type": "markdown",
   "metadata": {},
   "source": [
    "## nanopore"
   ]
  },
  {
   "cell_type": "markdown",
   "metadata": {},
   "source": [
    "### nanopore raw read length"
   ]
  },
  {
   "cell_type": "code",
   "execution_count": 147,
   "metadata": {},
   "outputs": [],
   "source": [
    "# nanopore mappped read length\n",
    "nano_read_path = '/public/home/mowp/test/nanopore_cdna/aligned_data/fhh.tagged.mm2.sorted.bam'\n",
    "nano_raw_read_length = get_read_length_from_bam(nano_read_path)\n",
    "# save data\n",
    "with open('nano_raw_read_length.npy', 'wb') as o:\n",
    "    np.save(o, nano_raw_read_length)"
   ]
  },
  {
   "cell_type": "code",
   "execution_count": 148,
   "metadata": {},
   "outputs": [
    {
     "data": {
      "image/png": "[encoded data removed]",
      "text/plain": [
       "<Figure size 432x288 with 1 Axes>"
      ]
     },
     "metadata": {
      "needs_background": "light"
     },
     "output_type": "display_data"
    },
    {
     "data": {
      "text/plain": [
       "DescribeResult(nobs=5170233, minmax=(87, 13827), mean=808.8599386139852, variance=252721.18908369038, skewness=2.049637067756201, kurtosis=7.9052434035397265)"
      ]
     },
     "execution_count": 148,
     "metadata": {},
     "output_type": "execute_result"
    }
   ],
   "source": [
    "xlim = 6000\n",
    "bins = np.arange(0, xlim, 100)\n",
    "plt.hist(nano_raw_read_length[nano_raw_read_length<=xlim], bins=bins, density=True)\n",
    "plt.xlim(0, xlim)\n",
    "plt.xlabel('Read length (nt)')\n",
    "plt.ylabel('Density')\n",
    "plt.show()\n",
    "nano_raw_stats = stats.describe(nano_raw_read_length)\n",
    "nano_raw_stats"
   ]
  },
  {
   "cell_type": "markdown",
   "metadata": {},
   "source": [
    "### nanopore full length read"
   ]
  },
  {
   "cell_type": "code",
   "execution_count": 149,
   "metadata": {},
   "outputs": [],
   "source": [
    "nano_fl_read_path = '/public/home/mowp/test/nanopore_cdna/full_length_transcripts/fhh.full_length.sorted.bam'\n",
    "nano_fl_read_length = get_read_length_from_bam(nano_fl_read_path)\n",
    "# save data\n",
    "with open('nano_fl_read_length.npy', 'wb') as o:\n",
    "    np.save(o, pb_fl_read_length)"
   ]
  },
  {
   "cell_type": "code",
   "execution_count": 150,
   "metadata": {},
   "outputs": [
    {
     "data": {
      "image/png": "[encoded data removed]",
      "text/plain": [
       "<Figure size 432x288 with 1 Axes>"
      ]
     },
     "metadata": {
      "needs_background": "light"
     },
     "output_type": "display_data"
    },
    {
     "data": {
      "text/plain": [
       "DescribeResult(nobs=3080340, minmax=(100, 13827), mean=923.0132099054, variance=257512.76255421125, skewness=2.066083133695734, kurtosis=7.8056464734518745)"
      ]
     },
     "execution_count": 150,
     "metadata": {},
     "output_type": "execute_result"
    }
   ],
   "source": [
    "xlim = 6000\n",
    "bins = np.arange(0, xlim, 100)\n",
    "plt.hist(nano_fl_read_length[nano_fl_read_length<=xlim], bins=bins, density=True)\n",
    "plt.xlim(0, xlim)\n",
    "plt.xlabel('Read length (nt)')\n",
    "plt.ylabel('Density')\n",
    "plt.show()\n",
    "nano_fl_stats = stats.describe(nano_fl_read_length)\n",
    "nano_fl_stats"
   ]
  },
  {
   "cell_type": "markdown",
   "metadata": {},
   "source": [
    "### summary"
   ]
  },
  {
   "cell_type": "markdown",
   "metadata": {},
   "source": [
    "length distribution of pacbio data"
   ]
  },
  {
   "cell_type": "code",
   "execution_count": 188,
   "metadata": {},
   "outputs": [
    {
     "data": {
      "image/png": "[encoded data removed]",
      "text/plain": [
       "<Figure size 432x288 with 1 Axes>"
      ]
     },
     "metadata": {
      "needs_background": "light"
     },
     "output_type": "display_data"
    }
   ],
   "source": [
    "xlim = 5000\n",
    "bins = np.linspace(0, xlim, 200)\n",
    "plt.hist(pb_raw_read_length[pb_raw_read_length<=xlim], bins=bins, density=True, label='All reads', alpha=.5)\n",
    "plt.hist(pb_fl_read_length[pb_fl_read_length<=xlim], bins=bins, density=True, label='Full length reads', alpha=.5)\n",
    "plt.xlabel('Read length (nt)')\n",
    "plt.ylabel('Density')\n",
    "plt.legend()\n",
    "plt.show()"
   ]
  },
  {
   "cell_type": "markdown",
   "metadata": {},
   "source": [
    "length distribution of nanopore data"
   ]
  },
  {
   "cell_type": "code",
   "execution_count": 189,
   "metadata": {},
   "outputs": [
    {
     "data": {
      "image/png": "[encoded data removed]",
      "text/plain": [
       "<Figure size 432x288 with 1 Axes>"
      ]
     },
     "metadata": {
      "needs_background": "light"
     },
     "output_type": "display_data"
    }
   ],
   "source": [
    "xlim = 5000\n",
    "bins = np.linspace(0, xlim, 200)\n",
    "plt.hist(nano_raw_read_length[nano_raw_read_length<=xlim], bins=bins, density=True, label='All reads', alpha=.5)\n",
    "plt.hist(nano_fl_read_length[nano_fl_read_length<=xlim], bins=bins, density=True, label='Full length reads', alpha=.5)\n",
    "plt.xlabel('Read length (nt)')\n",
    "plt.ylabel('Density')\n",
    "plt.legend()\n",
    "plt.show()"
   ]
  },
  {
   "cell_type": "markdown",
   "metadata": {},
   "source": [
    "**read length description**"
   ]
  },
  {
   "cell_type": "code",
   "execution_count": 157,
   "metadata": {},
   "outputs": [
    {
     "data": {
      "text/html": [
       "<div>\n",
       "<style scoped>\n",
       "    .dataframe tbody tr th:only-of-type {\n",
       "        vertical-align: middle;\n",
       "    }\n",
       "\n",
       "    .dataframe tbody tr th {\n",
       "        vertical-align: top;\n",
       "    }\n",
       "\n",
       "    .dataframe thead th {\n",
       "        text-align: right;\n",
       "    }\n",
       "</style>\n",
       "<table border=\"1\" class=\"dataframe\">\n",
       "  <thead>\n",
       "    <tr style=\"text-align: right;\">\n",
       "      <th></th>\n",
       "      <th>nobs</th>\n",
       "      <th>minmax</th>\n",
       "      <th>mean</th>\n",
       "      <th>variance</th>\n",
       "      <th>skewness</th>\n",
       "      <th>kurtosis</th>\n",
       "    </tr>\n",
       "  </thead>\n",
       "  <tbody>\n",
       "    <tr>\n",
       "      <th>pb_raw</th>\n",
       "      <td>1821580</td>\n",
       "      <td>(80, 8671)</td>\n",
       "      <td>1032.126540</td>\n",
       "      <td>441683.765437</td>\n",
       "      <td>1.393121</td>\n",
       "      <td>3.017683</td>\n",
       "    </tr>\n",
       "    <tr>\n",
       "      <th>pb_fl</th>\n",
       "      <td>1186218</td>\n",
       "      <td>(80, 8671)</td>\n",
       "      <td>1177.598197</td>\n",
       "      <td>419343.545223</td>\n",
       "      <td>1.453125</td>\n",
       "      <td>3.187851</td>\n",
       "    </tr>\n",
       "    <tr>\n",
       "      <th>nano_raw</th>\n",
       "      <td>5170233</td>\n",
       "      <td>(87, 13827)</td>\n",
       "      <td>808.859939</td>\n",
       "      <td>252721.189084</td>\n",
       "      <td>2.049637</td>\n",
       "      <td>7.905243</td>\n",
       "    </tr>\n",
       "    <tr>\n",
       "      <th>nano_fl</th>\n",
       "      <td>3080340</td>\n",
       "      <td>(100, 13827)</td>\n",
       "      <td>923.013210</td>\n",
       "      <td>257512.762554</td>\n",
       "      <td>2.066083</td>\n",
       "      <td>7.805646</td>\n",
       "    </tr>\n",
       "  </tbody>\n",
       "</table>\n",
       "</div>"
      ],
      "text/plain": [
       "             nobs        minmax         mean       variance  skewness  \\\n",
       "pb_raw    1821580    (80, 8671)  1032.126540  441683.765437  1.393121   \n",
       "pb_fl     1186218    (80, 8671)  1177.598197  419343.545223  1.453125   \n",
       "nano_raw  5170233   (87, 13827)   808.859939  252721.189084  2.049637   \n",
       "nano_fl   3080340  (100, 13827)   923.013210  257512.762554  2.066083   \n",
       "\n",
       "          kurtosis  \n",
       "pb_raw    3.017683  \n",
       "pb_fl     3.187851  \n",
       "nano_raw  7.905243  \n",
       "nano_fl   7.805646  "
      ]
     },
     "execution_count": 157,
     "metadata": {},
     "output_type": "execute_result"
    }
   ],
   "source": [
    "pd.DataFrame(\n",
    "    [pb_raw_stats, pb_fl_stats,\n",
    "    nano_raw_stats, nano_fl_stats],\n",
    "    index = ['pb_raw', 'pb_fl', \n",
    "            'nano_raw', 'nano_fl']\n",
    ")"
   ]
  },
  {
   "cell_type": "markdown",
   "metadata": {},
   "source": [
    "# isoform length distributions"
   ]
  },
  {
   "cell_type": "code",
   "execution_count": 160,
   "metadata": {},
   "outputs": [],
   "source": [
    "def sum_blockSizes(blockSizes):\n",
    "    blockSizes = np.fromstring(blockSizes, dtype=int, sep=',')\n",
    "    return sum(blockSizes)"
   ]
  },
  {
   "cell_type": "markdown",
   "metadata": {},
   "source": [
    "## pacbio"
   ]
  },
  {
   "cell_type": "code",
   "execution_count": 158,
   "metadata": {},
   "outputs": [],
   "source": [
    "pb_fl_isoform_path = '/public/home/mowp/data/pacbio_cdna/splicing_isoforms/isoseq.full_length_isoform.bed'\n",
    "pb_fl_isoform = pd.read_csv(pb_fl_isoform_path, sep='\\t', \n",
    "                            names=['chrom', 'chromStart', 'chromEnd', 'name', \n",
    "                                   'score', 'strand', 'thickStart', 'thickEnd', \n",
    "                                   'itemRgb', 'blockCount', 'blockSizes', 'blockStarts'])"
   ]
  },
  {
   "cell_type": "code",
   "execution_count": 166,
   "metadata": {},
   "outputs": [],
   "source": [
    "pb_isoform_len = pb_fl_isoform['blockSizes'].map(sum_blockSizes)"
   ]
  },
  {
   "cell_type": "code",
   "execution_count": 175,
   "metadata": {},
   "outputs": [
    {
     "data": {
      "image/png": "[encoded data removed]",
      "text/plain": [
       "<Figure size 432x288 with 1 Axes>"
      ]
     },
     "metadata": {
      "needs_background": "light"
     },
     "output_type": "display_data"
    }
   ],
   "source": [
    "xlim = 5000\n",
    "bins = np.linspace(0, xlim, 30)\n",
    "plt.hist(pb_isoform_len, bins=bins, density=True)\n",
    "#plt.xlim(0, xlim)\n",
    "plt.xlabel('Isoform length (nt)')\n",
    "plt.ylabel('Density')\n",
    "plt.show()"
   ]
  },
  {
   "cell_type": "markdown",
   "metadata": {},
   "source": [
    "## nanopore"
   ]
  },
  {
   "cell_type": "code",
   "execution_count": 220,
   "metadata": {},
   "outputs": [],
   "source": [
    "nano_fl_isoform_path = '/public/home/mowp/test/nanopore_cdna/splicing_isoforms/fhh.full_length_isoform.bed'\n",
    "nano_fl_isoform = pd.read_csv(nano_fl_isoform_path, sep='\\t', \n",
    "                              names=['chrom', 'chromStart', 'chromEnd', 'name', \n",
    "                                     'score', 'strand', 'thickStart', 'thickEnd', \n",
    "                                     'itemRgb', 'blockCount', 'blockSizes', 'blockStarts'])"
   ]
  },
  {
   "cell_type": "code",
   "execution_count": 177,
   "metadata": {},
   "outputs": [],
   "source": [
    "nano_isoform_len = nano_fl_isoform['blockSizes'].map(sum_blockSizes)"
   ]
  },
  {
   "cell_type": "code",
   "execution_count": 178,
   "metadata": {},
   "outputs": [
    {
     "data": {
      "image/png": "[encoded data removed]",
      "text/plain": [
       "<Figure size 432x288 with 1 Axes>"
      ]
     },
     "metadata": {
      "needs_background": "light"
     },
     "output_type": "display_data"
    }
   ],
   "source": [
    "xlim = 5000\n",
    "bins = np.linspace(0, xlim, 30)\n",
    "plt.hist(nano_isoform_len, bins=bins, density=True)\n",
    "#plt.xlim(0, xlim)\n",
    "plt.xlabel('Isoform length (nt)')\n",
    "plt.ylabel('Density')\n",
    "plt.show()"
   ]
  },
  {
   "cell_type": "markdown",
   "metadata": {},
   "source": [
    "## summary"
   ]
  },
  {
   "cell_type": "code",
   "execution_count": 207,
   "metadata": {},
   "outputs": [
    {
     "data": {
      "image/png": "[encoded data removed]",
      "text/plain": [
       "<Figure size 432x288 with 1 Axes>"
      ]
     },
     "metadata": {
      "needs_background": "light"
     },
     "output_type": "display_data"
    }
   ],
   "source": [
    "xlim = 5000\n",
    "bins = np.linspace(0, xlim, 30)\n",
    "plt.hist(pb_isoform_len, bins=bins, density=True, label='PacBio full-length isoform', alpha=.5)\n",
    "plt.hist(nano_isoform_len, bins=bins, density=True, label='Nanopore full-length isoform', alpha=.5)\n",
    "plt.xlabel('Isoform length (nt)')\n",
    "plt.ylabel('Density')\n",
    "plt.legend()\n",
    "plt.show()"
   ]
  },
  {
   "cell_type": "markdown",
   "metadata": {},
   "source": [
    "**isoform length description**"
   ]
  },
  {
   "cell_type": "code",
   "execution_count": 192,
   "metadata": {},
   "outputs": [
    {
     "data": {
      "text/html": [
       "<div>\n",
       "<style scoped>\n",
       "    .dataframe tbody tr th:only-of-type {\n",
       "        vertical-align: middle;\n",
       "    }\n",
       "\n",
       "    .dataframe tbody tr th {\n",
       "        vertical-align: top;\n",
       "    }\n",
       "\n",
       "    .dataframe thead th {\n",
       "        text-align: right;\n",
       "    }\n",
       "</style>\n",
       "<table border=\"1\" class=\"dataframe\">\n",
       "  <thead>\n",
       "    <tr style=\"text-align: right;\">\n",
       "      <th></th>\n",
       "      <th>count</th>\n",
       "      <th>mean</th>\n",
       "      <th>std</th>\n",
       "      <th>min</th>\n",
       "      <th>25%</th>\n",
       "      <th>50%</th>\n",
       "      <th>75%</th>\n",
       "      <th>max</th>\n",
       "    </tr>\n",
       "  </thead>\n",
       "  <tbody>\n",
       "    <tr>\n",
       "      <th>pacbio</th>\n",
       "      <td>23901.0</td>\n",
       "      <td>1585.611104</td>\n",
       "      <td>770.493029</td>\n",
       "      <td>84.0</td>\n",
       "      <td>1028.0</td>\n",
       "      <td>1457.0</td>\n",
       "      <td>1964.0</td>\n",
       "      <td>8389.0</td>\n",
       "    </tr>\n",
       "    <tr>\n",
       "      <th>nanopore</th>\n",
       "      <td>33251.0</td>\n",
       "      <td>1388.192115</td>\n",
       "      <td>712.017693</td>\n",
       "      <td>189.0</td>\n",
       "      <td>869.0</td>\n",
       "      <td>1262.0</td>\n",
       "      <td>1740.0</td>\n",
       "      <td>7400.0</td>\n",
       "    </tr>\n",
       "  </tbody>\n",
       "</table>\n",
       "</div>"
      ],
      "text/plain": [
       "            count         mean         std    min     25%     50%     75%  \\\n",
       "pacbio    23901.0  1585.611104  770.493029   84.0  1028.0  1457.0  1964.0   \n",
       "nanopore  33251.0  1388.192115  712.017693  189.0   869.0  1262.0  1740.0   \n",
       "\n",
       "             max  \n",
       "pacbio    8389.0  \n",
       "nanopore  7400.0  "
      ]
     },
     "execution_count": 192,
     "metadata": {},
     "output_type": "execute_result"
    }
   ],
   "source": [
    "pd.DataFrame([pb_isoform_len.describe(), nano_isoform_len.describe()],\n",
    "             index = ['pacbio', 'nanopore']\n",
    "            )"
   ]
  },
  {
   "cell_type": "markdown",
   "metadata": {},
   "source": [
    "为什么pacbio测的比nanopre长？"
   ]
  },
  {
   "cell_type": "markdown",
   "metadata": {},
   "source": [
    "# genome view plot"
   ]
  },
  {
   "cell_type": "code",
   "execution_count": null,
   "metadata": {},
   "outputs": [],
   "source": []
  },
  {
   "cell_type": "code",
   "execution_count": 226,
   "metadata": {},
   "outputs": [],
   "source": [
    "araport11_isoform_path = '/public/home/mowp/test/nanopore_cdna/supplementary_data/get_representative_gene_model/araport11.representative.gene_model.bed'\n",
    "araport11_isoform = pd.read_csv(araport11_isoform_path, sep='\\t', \n",
    "                                names=['chrom', 'chromStart', 'chromEnd', 'name', \n",
    "                                       'score', 'strand', 'thickStart', 'thickEnd', \n",
    "                                       'itemRgb', 'blockCount', 'blockSizes', 'blockStarts']\n",
    "                               )\n",
    "araport11_isoform['gene_id'] = araport11_isoform['name'].map(lambda x: x.split('.')[0])\n",
    "araport11_isoform = araport11_isoform.set_index('gene_id')"
   ]
  },
  {
   "cell_type": "code",
   "execution_count": 746,
   "metadata": {},
   "outputs": [
    {
     "data": {
      "text/html": [
       "<div>\n",
       "<style scoped>\n",
       "    .dataframe tbody tr th:only-of-type {\n",
       "        vertical-align: middle;\n",
       "    }\n",
       "\n",
       "    .dataframe tbody tr th {\n",
       "        vertical-align: top;\n",
       "    }\n",
       "\n",
       "    .dataframe thead th {\n",
       "        text-align: right;\n",
       "    }\n",
       "</style>\n",
       "<table border=\"1\" class=\"dataframe\">\n",
       "  <thead>\n",
       "    <tr style=\"text-align: right;\">\n",
       "      <th></th>\n",
       "      <th>chrom</th>\n",
       "      <th>chromStart</th>\n",
       "      <th>chromEnd</th>\n",
       "      <th>name</th>\n",
       "      <th>score</th>\n",
       "      <th>strand</th>\n",
       "      <th>thickStart</th>\n",
       "      <th>thickEnd</th>\n",
       "      <th>itemRgb</th>\n",
       "      <th>blockCount</th>\n",
       "      <th>blockSizes</th>\n",
       "      <th>blockStarts</th>\n",
       "    </tr>\n",
       "    <tr>\n",
       "      <th>gene_id</th>\n",
       "      <th></th>\n",
       "      <th></th>\n",
       "      <th></th>\n",
       "      <th></th>\n",
       "      <th></th>\n",
       "      <th></th>\n",
       "      <th></th>\n",
       "      <th></th>\n",
       "      <th></th>\n",
       "      <th></th>\n",
       "      <th></th>\n",
       "      <th></th>\n",
       "    </tr>\n",
       "  </thead>\n",
       "  <tbody>\n",
       "    <tr>\n",
       "      <th>AT1G01010</th>\n",
       "      <td>1</td>\n",
       "      <td>3630</td>\n",
       "      <td>5899</td>\n",
       "      <td>AT1G01010.1</td>\n",
       "      <td>0</td>\n",
       "      <td>+</td>\n",
       "      <td>3759</td>\n",
       "      <td>5630</td>\n",
       "      <td>0</td>\n",
       "      <td>6</td>\n",
       "      <td>283,281,120,390,153,461,</td>\n",
       "      <td>0,365,855,1075,1543,1808,</td>\n",
       "    </tr>\n",
       "    <tr>\n",
       "      <th>AT1G01020</th>\n",
       "      <td>1</td>\n",
       "      <td>6787</td>\n",
       "      <td>9130</td>\n",
       "      <td>AT1G01020.1</td>\n",
       "      <td>0</td>\n",
       "      <td>-</td>\n",
       "      <td>6914</td>\n",
       "      <td>8666</td>\n",
       "      <td>0</td>\n",
       "      <td>9</td>\n",
       "      <td>282,76,67,86,74,46,90,48,560,</td>\n",
       "      <td>0,369,596,776,974,1154,1448,1629,1783,</td>\n",
       "    </tr>\n",
       "    <tr>\n",
       "      <th>AT1G01030</th>\n",
       "      <td>1</td>\n",
       "      <td>11648</td>\n",
       "      <td>13714</td>\n",
       "      <td>AT1G01030.1</td>\n",
       "      <td>0</td>\n",
       "      <td>-</td>\n",
       "      <td>11863</td>\n",
       "      <td>12940</td>\n",
       "      <td>0</td>\n",
       "      <td>2</td>\n",
       "      <td>1525,380,</td>\n",
       "      <td>0,1686,</td>\n",
       "    </tr>\n",
       "    <tr>\n",
       "      <th>AT1G01040</th>\n",
       "      <td>1</td>\n",
       "      <td>23415</td>\n",
       "      <td>31120</td>\n",
       "      <td>AT1G01040.2</td>\n",
       "      <td>0</td>\n",
       "      <td>+</td>\n",
       "      <td>23518</td>\n",
       "      <td>31079</td>\n",
       "      <td>0</td>\n",
       "      <td>20</td>\n",
       "      <td>1036,114,211,395,220,173,123,161,234,151,183,1...</td>\n",
       "      <td>0,1126,1336,1625,2108,2409,2665,2876,3127,3446...</td>\n",
       "    </tr>\n",
       "    <tr>\n",
       "      <th>AT1G01046</th>\n",
       "      <td>1</td>\n",
       "      <td>28499</td>\n",
       "      <td>28706</td>\n",
       "      <td>AT1G01046.1</td>\n",
       "      <td>0</td>\n",
       "      <td>+</td>\n",
       "      <td>28634</td>\n",
       "      <td>28655</td>\n",
       "      <td>0</td>\n",
       "      <td>1</td>\n",
       "      <td>21,</td>\n",
       "      <td>135,</td>\n",
       "    </tr>\n",
       "    <tr>\n",
       "      <th>...</th>\n",
       "      <td>...</td>\n",
       "      <td>...</td>\n",
       "      <td>...</td>\n",
       "      <td>...</td>\n",
       "      <td>...</td>\n",
       "      <td>...</td>\n",
       "      <td>...</td>\n",
       "      <td>...</td>\n",
       "      <td>...</td>\n",
       "      <td>...</td>\n",
       "      <td>...</td>\n",
       "      <td>...</td>\n",
       "    </tr>\n",
       "    <tr>\n",
       "      <th>ATMG09800</th>\n",
       "      <td>Mt</td>\n",
       "      <td>239951</td>\n",
       "      <td>240023</td>\n",
       "      <td>ATMG09800.1</td>\n",
       "      <td>0</td>\n",
       "      <td>-</td>\n",
       "      <td>239951</td>\n",
       "      <td>240023</td>\n",
       "      <td>0</td>\n",
       "      <td>1</td>\n",
       "      <td>72,</td>\n",
       "      <td>0,</td>\n",
       "    </tr>\n",
       "    <tr>\n",
       "      <th>ATMG09830</th>\n",
       "      <td>Mt</td>\n",
       "      <td>262130</td>\n",
       "      <td>262209</td>\n",
       "      <td>ATMG09830.1</td>\n",
       "      <td>0</td>\n",
       "      <td>-</td>\n",
       "      <td>262130</td>\n",
       "      <td>262209</td>\n",
       "      <td>0</td>\n",
       "      <td>1</td>\n",
       "      <td>79,</td>\n",
       "      <td>0,</td>\n",
       "    </tr>\n",
       "    <tr>\n",
       "      <th>ATMG09950</th>\n",
       "      <td>Mt</td>\n",
       "      <td>333650</td>\n",
       "      <td>333725</td>\n",
       "      <td>ATMG09950.1</td>\n",
       "      <td>0</td>\n",
       "      <td>-</td>\n",
       "      <td>333650</td>\n",
       "      <td>333725</td>\n",
       "      <td>0</td>\n",
       "      <td>1</td>\n",
       "      <td>75,</td>\n",
       "      <td>0,</td>\n",
       "    </tr>\n",
       "    <tr>\n",
       "      <th>ATMG09960</th>\n",
       "      <td>Mt</td>\n",
       "      <td>347265</td>\n",
       "      <td>347348</td>\n",
       "      <td>ATMG09960.1</td>\n",
       "      <td>0</td>\n",
       "      <td>+</td>\n",
       "      <td>347265</td>\n",
       "      <td>347348</td>\n",
       "      <td>0</td>\n",
       "      <td>2</td>\n",
       "      <td>39,35,</td>\n",
       "      <td>0,48,</td>\n",
       "    </tr>\n",
       "    <tr>\n",
       "      <th>ATMG09980</th>\n",
       "      <td>Mt</td>\n",
       "      <td>359665</td>\n",
       "      <td>359739</td>\n",
       "      <td>ATMG09980.1</td>\n",
       "      <td>0</td>\n",
       "      <td>-</td>\n",
       "      <td>359665</td>\n",
       "      <td>359739</td>\n",
       "      <td>0</td>\n",
       "      <td>1</td>\n",
       "      <td>74,</td>\n",
       "      <td>0,</td>\n",
       "    </tr>\n",
       "  </tbody>\n",
       "</table>\n",
       "<p>38196 rows × 12 columns</p>\n",
       "</div>"
      ],
      "text/plain": [
       "          chrom  chromStart  chromEnd         name  score strand  thickStart  \\\n",
       "gene_id                                                                        \n",
       "AT1G01010     1        3630      5899  AT1G01010.1      0      +        3759   \n",
       "AT1G01020     1        6787      9130  AT1G01020.1      0      -        6914   \n",
       "AT1G01030     1       11648     13714  AT1G01030.1      0      -       11863   \n",
       "AT1G01040     1       23415     31120  AT1G01040.2      0      +       23518   \n",
       "AT1G01046     1       28499     28706  AT1G01046.1      0      +       28634   \n",
       "...         ...         ...       ...          ...    ...    ...         ...   \n",
       "ATMG09800    Mt      239951    240023  ATMG09800.1      0      -      239951   \n",
       "ATMG09830    Mt      262130    262209  ATMG09830.1      0      -      262130   \n",
       "ATMG09950    Mt      333650    333725  ATMG09950.1      0      -      333650   \n",
       "ATMG09960    Mt      347265    347348  ATMG09960.1      0      +      347265   \n",
       "ATMG09980    Mt      359665    359739  ATMG09980.1      0      -      359665   \n",
       "\n",
       "           thickEnd  itemRgb  blockCount  \\\n",
       "gene_id                                    \n",
       "AT1G01010      5630        0           6   \n",
       "AT1G01020      8666        0           9   \n",
       "AT1G01030     12940        0           2   \n",
       "AT1G01040     31079        0          20   \n",
       "AT1G01046     28655        0           1   \n",
       "...             ...      ...         ...   \n",
       "ATMG09800    240023        0           1   \n",
       "ATMG09830    262209        0           1   \n",
       "ATMG09950    333725        0           1   \n",
       "ATMG09960    347348        0           2   \n",
       "ATMG09980    359739        0           1   \n",
       "\n",
       "                                                  blockSizes  \\\n",
       "gene_id                                                        \n",
       "AT1G01010                           283,281,120,390,153,461,   \n",
       "AT1G01020                      282,76,67,86,74,46,90,48,560,   \n",
       "AT1G01030                                          1525,380,   \n",
       "AT1G01040  1036,114,211,395,220,173,123,161,234,151,183,1...   \n",
       "AT1G01046                                                21,   \n",
       "...                                                      ...   \n",
       "ATMG09800                                                72,   \n",
       "ATMG09830                                                79,   \n",
       "ATMG09950                                                75,   \n",
       "ATMG09960                                             39,35,   \n",
       "ATMG09980                                                74,   \n",
       "\n",
       "                                                 blockStarts  \n",
       "gene_id                                                       \n",
       "AT1G01010                          0,365,855,1075,1543,1808,  \n",
       "AT1G01020             0,369,596,776,974,1154,1448,1629,1783,  \n",
       "AT1G01030                                            0,1686,  \n",
       "AT1G01040  0,1126,1336,1625,2108,2409,2665,2876,3127,3446...  \n",
       "AT1G01046                                               135,  \n",
       "...                                                      ...  \n",
       "ATMG09800                                                 0,  \n",
       "ATMG09830                                                 0,  \n",
       "ATMG09950                                                 0,  \n",
       "ATMG09960                                              0,48,  \n",
       "ATMG09980                                                 0,  \n",
       "\n",
       "[38196 rows x 12 columns]"
      ]
     },
     "execution_count": 746,
     "metadata": {},
     "output_type": "execute_result"
    }
   ],
   "source": [
    "araport11_isoform"
   ]
  },
  {
   "cell_type": "code",
   "execution_count": 235,
   "metadata": {},
   "outputs": [
    {
     "data": {
      "text/plain": [
       "28499"
      ]
     },
     "execution_count": 235,
     "metadata": {},
     "output_type": "execute_result"
    }
   ],
   "source": [
    "araport11_isoform.loc['AT1G01046', 'chromStart']"
   ]
  },
  {
   "cell_type": "code",
   "execution_count": 236,
   "metadata": {},
   "outputs": [
    {
     "data": {
      "text/plain": [
       "28706"
      ]
     },
     "execution_count": 236,
     "metadata": {},
     "output_type": "execute_result"
    }
   ],
   "source": [
    "araport11_isoform.loc['AT1G01046', 'chromEnd']"
   ]
  },
  {
   "cell_type": "code",
   "execution_count": 949,
   "metadata": {},
   "outputs": [],
   "source": [
    "class IGV:\n",
    "    def __init__(self, gene_id, fl_bam=None, non_fl_bam=None):\n",
    "        self.gene_id = gene_id\n",
    "        self.fl_bam = fl_bam  # full length bam path\n",
    "        self.non_fl_bam = non_fl_bam # non full length bam path\n",
    "        self.fl_bam_read = []  # a list consist of full length bam read\n",
    "        self.non_fl_bam_read = [] # a list consist of non full length bam read\n",
    "        self._get_gene_info()\n",
    "        self.ypos = 1\n",
    "        \n",
    "    def _get_gene_info(self):\n",
    "        '''\n",
    "        Get gene info from bed file\n",
    "        '''\n",
    "        gene_info = araport11_isoform.loc[self.gene_id]\n",
    "        self.chrom = gene_info.chrom\n",
    "        self.start = gene_info.chromStart\n",
    "        self.end = gene_info.chromEnd\n",
    "        self.strand = gene_info.strand\n",
    "        self.blockSizes = np.fromstring(gene_info.blockSizes, sep=',')\n",
    "        self.blockStarts = np.fromstring(gene_info.blockStarts, sep=',') + start # 0 base\n",
    "    \n",
    "    def get_gene_id_from_tags(self, tags):\n",
    "        for tag, value in tags:\n",
    "            if tag == 'gi':\n",
    "                return value\n",
    "\n",
    "    def _setup(self, ax):\n",
    "            ax.spines['right'].set_color('none')\n",
    "            ax.spines['left'].set_color('none')\n",
    "            ax.spines['top'].set_color('none')\n",
    "            ax.yaxis.set_major_locator(ticker.NullLocator())\n",
    "    \n",
    "    def plot_gene_model(self, ax, start, end, strand, blockSizes, blockStarts):\n",
    "        '''\n",
    "        Visualize gene model from bed file\n",
    "\n",
    "        Parms:\n",
    "            @ypos: yaxis of the gene in the plot [int]\n",
    "            @start: start position of the gene [int]\n",
    "            @end: end position of the gene [int]\n",
    "            @strand: strand od the gene ['+' or '-']\n",
    "            @blockSizes: size of exons [array]\n",
    "            @blockStarts: start position of gene [array]\n",
    "\n",
    "        example:\n",
    "            @ypos: 1\n",
    "            @start: 6787\n",
    "            @end: 9130\n",
    "            @strand: '-'\n",
    "            @blockSizes: array([282.,  76.,  67.,  86.,  74.,  46.,  90.,  48., 560.]),\n",
    "            @blockStarts: array([6787., 7156., 7383., 7563., 7761., 7941., 8235., 8416., 8570.]))\n",
    "        '''\n",
    "        small_relative = 0.02 * (end-start)  # 箭头突出部分相对长度\n",
    "        ax.plot([start, end], [self.ypos, self.ypos], color='darkblue')  # 基因有多长这条线就有多长\n",
    "        height = .25 # gene model 高度\n",
    "        for exonstart, size in zip(blockStarts, blockSizes):\n",
    "            if exonstart == start and strand == '-':  # 负链的最后一个exon\n",
    "                vertices = [(start, self.ypos), \n",
    "                            (start+small_relative, self.ypos+height), (exonstart+size, self.ypos+height), \n",
    "                            (exonstart+size, self.ypos-height), (start+small_relative, self.ypos-height)]\n",
    "                exon = mp.Polygon(vertices, closed=True, fill=True, color='darkblue')  # 多边形箭头 ⬅\n",
    "            elif exonstart+size == end and strand == '+':  # 正链的最后一个exon\n",
    "                vertices = [(exonstart, self.ypos-height), (exonstart, self.ypos+height), \n",
    "                            (end-small_relative, self.ypos+height), \n",
    "                            (end, self.ypos), (end-small_relative, self.ypos-height)]\n",
    "                exon = mp.Polygon(vertices, closed=True, fill=True, color='darkblue')  # 多边形箭头 →\n",
    "            else:  # 普通exon\n",
    "                exon = mp.Rectangle((exonstart, self.ypos-height), size, height*2, color='darkblue', linewidth=0)\n",
    "            ax.add_patch(exon)\n",
    "            \n",
    "        self.ypos += -1  # 空行画下一部分\n",
    "        \n",
    "    def plot_bam_read(self, ax, read_list):\n",
    "        color = 'skyblue'\n",
    "        for read in read_list:\n",
    "            ax.plot([read.reference_start, read.reference_end], [self.ypos, self.ypos], color='grey', linewidth=0.5, alpha=.7)     \n",
    "            for bloct_start, block_end in read.get_blocks():\n",
    "                ax.plot([bloct_start, block_end], [self.ypos, self.ypos], color=color, linewidth=1)\n",
    "            self.ypos += -.1\n",
    "    \n",
    "    def bam_fetch(self, bam_file, read_list):\n",
    "        with pysam.AlignmentFile(bam_file, \"rb\") as bam:\n",
    "            for read in bam.fetch(self.chrom, self.start, self.end):\n",
    "                if get_gene_id_from_tags(read.get_tags()) == self.gene_id:\n",
    "                    read_list.append(read)\n",
    "                    \n",
    "    def genomeview(self):\n",
    "        color = 'skyblue' if strand == '+' else 'mediumpurple'\n",
    "        '''\n",
    "        Fetching bam data!\n",
    "        '''\n",
    "        if self.fl_bam is not None:\n",
    "            self.bam_fetch(self.fl_bam, self.fl_bam_read)\n",
    "        if self.non_fl_bam is not None:\n",
    "            self.bam_fetch(self.non_fl_bam, self.non_fl_bam_read)\n",
    "        '''\n",
    "        Start plotting!\n",
    "        '''\n",
    "        ysize = len(self.fl_bam_read) + len(self.non_fl_bam_read)\n",
    "        annx = (self.start+self.end)/2\n",
    "        fig, ax = plt.subplots(figsize=(6, 1+ysize*.05))\n",
    "        # plot geng model\n",
    "        ax.annotate(s=self.gene_id,\n",
    "                    xy=(annx, self.ypos+.5), ha='center')\n",
    "        self.plot_gene_model(ax, self.start, self.end, self.strand, self.blockSizes, self.blockStarts)\n",
    "        \n",
    "        # plot bam reads\n",
    "        if self.fl_bam is not None:\n",
    "            ax.annotate(s='full-length reads',\n",
    "                        xy=(annx, self.ypos+.25), ha='center')\n",
    "            self.plot_bam_read(ax, self.fl_bam_read)\n",
    "            self.ypos += -.9  # 空行画下一部分\n",
    "        if self.non_fl_bam is not None:\n",
    "            ax.annotate(s='non-full-length reads',\n",
    "                        xy=(annx, self.ypos+.25), ha='center')\n",
    "            self.plot_bam_read(ax, self.non_fl_bam_read)\n",
    "            # 😂 get full-length read has some bug!\n",
    "        \n",
    "        '''\n",
    "        Set axis!\n",
    "        '''\n",
    "        self._setup(ax)\n",
    "        step = (self.end-self.start)//400*100\n",
    "        xticks = np.arange(self.start, self.end+step, step)\n",
    "        ax.set_xticks(xticks)\n",
    "        if self.strand == '+':\n",
    "            ax.set_xticklabels(xticks-self.start)\n",
    "            ax.set_xlim(self.start, self.end)\n",
    "        else:\n",
    "            # 如果为负链，将方向反过来\n",
    "            ax.set_xticklabels(xticks[::-1]-self.start)\n",
    "            ax.set_xlim(self.end, self.start)\n",
    "        ax.set_xlabel('Length (nt)')"
   ]
  },
  {
   "cell_type": "code",
   "execution_count": 950,
   "metadata": {},
   "outputs": [
    {
     "data": {
      "image/png": "[encoded data removed]",
      "text/plain": [
       "<Figure size 432x226.8 with 1 Axes>"
      ]
     },
     "metadata": {
      "needs_background": "light"
     },
     "output_type": "display_data"
    }
   ],
   "source": [
    "pb_fl_read_path = '/public/home/mowp/data/pacbio_cdna/full_length_transcripts/isoseq.full_length.sorted.bam'\n",
    "pb_nonfl_read_path = '/public/home/mowp/data/pacbio_cdna/full_length_transcripts/isoseq.non_full_length.sorted.bam'\n",
    "igv = IGV('AT1G01020', pb_fl_read_path, pb_nonfl_read_path)\n",
    "igv.genomeview()"
   ]
  },
  {
   "cell_type": "code",
   "execution_count": 640,
   "metadata": {},
   "outputs": [],
   "source": [
    "def plot_gene_model(ax, ypos, start, end, strand, blockSizes, blockStarts):\n",
    "    '''\n",
    "    Visualize gene model from bed file\n",
    "    \n",
    "    Parms:\n",
    "        @ypos: yaxis of the gene in the plot [int]\n",
    "        @start: start position of the gene [int]\n",
    "        @end: end position of the gene [int]\n",
    "        @strand: strand od the gene ['+' or '-']\n",
    "        @blockSizes: size of exons [array]\n",
    "        @blockStarts: start position of gene [array]\n",
    "    \n",
    "    example:\n",
    "        @ypos: 1\n",
    "        @start: 6787\n",
    "        @end: 9130\n",
    "        @strand: '-'\n",
    "        @blockSizes: array([282.,  76.,  67.,  86.,  74.,  46.,  90.,  48., 560.]),\n",
    "        @blockStarts: array([6787., 7156., 7383., 7563., 7761., 7941., 8235., 8416., 8570.]))\n",
    "    '''\n",
    "    small_relative = 0.04 * (end-start)  # 箭头突出部分相对长度\n",
    "    ax.plot([start, end], [ypos, ypos], color='darkblue')  # 基因有多长这条线就有多长\n",
    "    for exonstart, size in zip(blockStarts, blockSizes):\n",
    "        if exonstart == start and strand == '-':  # 负链的最后一个exon\n",
    "            vertices = [(start, ypos), \n",
    "                        (start+small_relative, ypos+.5), (exonstart+size, ypos+.5), \n",
    "                        (exonstart+size, ypos-.5), (start+small_relative, ypos-.5)]\n",
    "            exon = mp.Polygon(vertices, closed=True, fill=True, color='darkblue')  # 多边形箭头 ⬅\n",
    "        elif exonstart+size == end and strand == '+':  # 正链的最后一个exon\n",
    "            vertices = [(exonstart, ypos-.5), (exonstart, ypos+.5), \n",
    "                        (end-small_relative, ypos+.5), \n",
    "                        (end, ypos), (end-small_relative, ypos-.5)]\n",
    "            exon = mp.Polygon(vertices, closed=True, fill=True, color='darkblue')  # 多边形箭头 →\n",
    "        else:  # 普通exon\n",
    "            exon = mp.Rectangle((exonstart, ypos-.5), size, 1, color='darkblue', linewidth=0)\n",
    "        ax.add_patch(exon)"
   ]
  },
  {
   "cell_type": "code",
   "execution_count": 637,
   "metadata": {},
   "outputs": [],
   "source": [
    "chrom, start, end, strand, blockSizes, blockStarts = get_gene_info('AT1G01020')"
   ]
  },
  {
   "cell_type": "code",
   "execution_count": 639,
   "metadata": {},
   "outputs": [
    {
     "data": {
      "text/plain": [
       "('1',\n",
       " 6787,\n",
       " 9130,\n",
       " '-',\n",
       " array([282.,  76.,  67.,  86.,  74.,  46.,  90.,  48., 560.]),\n",
       " array([6787., 7156., 7383., 7563., 7761., 7941., 8235., 8416., 8570.]))"
      ]
     },
     "execution_count": 639,
     "metadata": {},
     "output_type": "execute_result"
    }
   ],
   "source": [
    "chrom, start, end, strand, blockSizes, blockStarts"
   ]
  },
  {
   "cell_type": "code",
   "execution_count": 638,
   "metadata": {},
   "outputs": [
    {
     "name": "stdout",
     "output_type": "stream",
     "text": [
      "[(6787, 1), (6880.72, 1.5), (7069.0, 1.5), (7069.0, 0.5), (6880.72, 0.5)]\n"
     ]
    },
    {
     "data": {
      "image/png": "[encoded data removed]",
      "text/plain": [
       "<Figure size 720x36 with 1 Axes>"
      ]
     },
     "metadata": {
      "needs_background": "light"
     },
     "output_type": "display_data"
    }
   ],
   "source": [
    "fig, ax = plt.subplots(figsize=(10, .5))\n",
    "plot_gene_model(ax, 1, start, end, strand, blockSizes, blockStarts)"
   ]
  },
  {
   "cell_type": "code",
   "execution_count": 605,
   "metadata": {},
   "outputs": [],
   "source": [
    "from matplotlib.lines import Line2D\n",
    "small_relative = 0.04 * (end-start)\n",
    "def plot_small_arrow(ax, xpos, ypos, strand, color):\n",
    "    \"\"\"\n",
    "    Draws a broken line with 2 parts:\n",
    "    For strand = +:  > For strand = -: <\n",
    "    :param xpos:\n",
    "    :param ypos:\n",
    "    :param strand:\n",
    "    :\n",
    "    :return: None\n",
    "    \"\"\"\n",
    "    if strand == '+':\n",
    "        xdata = [xpos - small_relative / 2,\n",
    "                 xpos,\n",
    "                 xpos - small_relative / 2]\n",
    "    else:\n",
    "        xdata = [xpos + small_relative / 2,\n",
    "                 xpos,\n",
    "                 xpos + small_relative / 2]\n",
    "    ydata = [ypos + .4,\n",
    "             ypos,\n",
    "             ypos - .4]\n",
    "    ax.add_line(Line2D(xdata, ydata, color=color))\n"
   ]
  },
  {
   "cell_type": "code",
   "execution_count": 513,
   "metadata": {},
   "outputs": [],
   "source": [
    "pos = np.arange(start, end, )"
   ]
  },
  {
   "cell_type": "code",
   "execution_count": 518,
   "metadata": {},
   "outputs": [
    {
     "data": {
      "text/plain": [
       "[]"
      ]
     },
     "execution_count": 518,
     "metadata": {},
     "output_type": "execute_result"
    },
    {
     "data": {
      "image/png": "[encoded data removed]",
      "text/plain": [
       "<Figure size 720x72 with 1 Axes>"
      ]
     },
     "metadata": {
      "needs_background": "light"
     },
     "output_type": "display_data"
    }
   ],
   "source": [
    "fig, ax = plt.subplots(figsize=(10, 1))\n",
    "for xpos in pos:\n",
    "    plot_small_arrow(ax, xpos, 1, '+')\n",
    "ax.plot()"
   ]
  },
  {
   "cell_type": "code",
   "execution_count": 511,
   "metadata": {},
   "outputs": [
    {
     "data": {
      "text/plain": [
       "array([ 0, 20, 40, 60, 80])"
      ]
     },
     "execution_count": 511,
     "metadata": {},
     "output_type": "execute_result"
    }
   ],
   "source": [
    "pos"
   ]
  },
  {
   "cell_type": "code",
   "execution_count": 554,
   "metadata": {},
   "outputs": [],
   "source": [
    "aa = iter(np.linspace(start, end, 10))"
   ]
  },
  {
   "cell_type": "code",
   "execution_count": 555,
   "metadata": {},
   "outputs": [
    {
     "data": {
      "text/plain": [
       "6787.0"
      ]
     },
     "execution_count": 555,
     "metadata": {},
     "output_type": "execute_result"
    }
   ],
   "source": [
    "next(aa)"
   ]
  },
  {
   "cell_type": "code",
   "execution_count": 556,
   "metadata": {},
   "outputs": [
    {
     "ename": "StopIteration",
     "evalue": "",
     "output_type": "error",
     "traceback": [
      "\u001b[0;31m---------------------------------------------------------------------------\u001b[0m",
      "\u001b[0;31mStopIteration\u001b[0m                             Traceback (most recent call last)",
      "\u001b[0;32m<ipython-input-556-1b6316563350>\u001b[0m in \u001b[0;36m<module>\u001b[0;34m\u001b[0m\n\u001b[1;32m      1\u001b[0m \u001b[0;32mwhile\u001b[0m \u001b[0;36m1\u001b[0m\u001b[0;34m:\u001b[0m\u001b[0;34m\u001b[0m\u001b[0;34m\u001b[0m\u001b[0m\n\u001b[0;32m----> 2\u001b[0;31m     \u001b[0mnext\u001b[0m\u001b[0;34m(\u001b[0m\u001b[0maa\u001b[0m\u001b[0;34m)\u001b[0m\u001b[0;34m\u001b[0m\u001b[0;34m\u001b[0m\u001b[0m\n\u001b[0m",
      "\u001b[0;31mStopIteration\u001b[0m: "
     ]
    }
   ],
   "source": [
    "while 1:\n",
    "    next(aa)"
   ]
  },
  {
   "cell_type": "code",
   "execution_count": 613,
   "metadata": {},
   "outputs": [
    {
     "data": {
      "text/plain": [
       "[]"
      ]
     },
     "execution_count": 613,
     "metadata": {},
     "output_type": "execute_result"
    },
    {
     "data": {
      "image/png": "[encoded data removed]",
      "text/plain": [
       "<Figure size 432x288 with 1 Axes>"
      ]
     },
     "metadata": {
      "needs_background": "light"
     },
     "output_type": "display_data"
    }
   ],
   "source": [
    "fig, ax = plt.subplots()\n",
    "vertices = ([(0, 0), (0, 1), (2, 1), (3, 0.5), (2, 0)])\n",
    "ax.add_patch(mp.Polygon(vertices, closed=True, fill=True,))\n",
    "ax.plot()"
   ]
  },
  {
   "cell_type": "code",
   "execution_count": 951,
   "metadata": {},
   "outputs": [
    {
     "data": {
      "text/plain": [
       "'/public/home/mowp/test/nanopore_cdna/notebook'"
      ]
     },
     "execution_count": 951,
     "metadata": {},
     "output_type": "execute_result"
    }
   ],
   "source": [
    "pwd"
   ]
  },
  {
   "cell_type": "code",
   "execution_count": null,
   "metadata": {},
   "outputs": [],
   "source": []
  }
 ],
 "metadata": {
  "kernelspec": {
   "display_name": "Python 3",
   "language": "python",
   "name": "python3"
  },
  "language_info": {
   "codemirror_mode": {
    "name": "ipython",
    "version": 3
   },
   "file_extension": ".py",
   "mimetype": "text/x-python",
   "name": "python",
   "nbconvert_exporter": "python",
   "pygments_lexer": "ipython3",
   "version": "3.7.6"
  },
  "toc-autonumbering": true,
  "toc-showcode": false,
  "toc-showmarkdowntxt": false
 },
 "nbformat": 4,
 "nbformat_minor": 4
}
