{
 "cells": [
  {
   "cell_type": "markdown",
   "metadata": {},
   "source": [
    "# Nanopore DRS oversplitting detection\n",
    "\n",
    "We can attempt to detect where the MinKNOW software has oversplit reads by looking for reads which map adjacently that were also sequenced consequectively through the same pore"
   ]
  },
  {
   "cell_type": "code",
   "execution_count": 2,
   "metadata": {},
   "outputs": [
    {
     "data": {
      "image/png": "[encoded data removed]",
      "text/plain": [
       "<Figure size 360x72 with 1 Axes>"
      ]
     },
     "metadata": {},
     "output_type": "display_data"
    }
   ],
   "source": [
    "import sys\n",
    "import re\n",
    "import os\n",
    "from glob import glob\n",
    "from collections import Counter, namedtuple, defaultdict\n",
    "from operator import add\n",
    "from functools import reduce\n",
    "import itertools as it\n",
    "from operator import attrgetter\n",
    "import random\n",
    "\n",
    "import numpy as np\n",
    "import pandas as pd\n",
    "from scipy import stats, signal\n",
    "import matplotlib.pyplot as plt\n",
    "from matplotlib.colors import ListedColormap\n",
    "import seaborn as sns\n",
    "\n",
    "import pysam\n",
    "\n",
    "## Default plotting params\n",
    "\n",
    "%matplotlib inline\n",
    "sns.set(font='Arial')\n",
    "plt.rcParams['svg.fonttype'] = 'none'\n",
    "style = sns.axes_style('white')\n",
    "style.update(sns.axes_style('ticks'))\n",
    "style['xtick.major.size'] = 2\n",
    "style['ytick.major.size'] = 2\n",
    "sns.set(font_scale=2, style=style)\n",
    "pal = sns.color_palette(['#0072b2', '#d55e00', '#009e73', '#f0e442', '#cc79a7'])\n",
    "cmap = ListedColormap(pal.as_hex())\n",
    "sns.set_palette(pal)\n",
    "sns.palplot(pal)\n",
    "plt.show()"
   ]
  },
  {
   "cell_type": "code",
   "execution_count": 25,
   "metadata": {},
   "outputs": [],
   "source": [
    "def get_read_mapping_locs(bam_fn):\n",
    "    mapping = []\n",
    "    with pysam.AlignmentFile(bam_fn) as bam:\n",
    "        for aln in bam.fetch():\n",
    "            mapping.append([\n",
    "                aln.query_name,\n",
    "                aln.reference_name,\n",
    "                aln.reference_start,\n",
    "                aln.reference_end,\n",
    "                ['+', '-'][aln.is_reverse],\n",
    "            ])\n",
    "    return pd.DataFrame(mapping, columns=['read_id', 'chrom', 'genomic_start', 'genomic_end', 'strand'])\n",
    "\n",
    "\n",
    "def get_dist_to_prev(read):\n",
    "    if not read.strand_same_as_prev or not read.chrom_same_as_prev:\n",
    "        return np.nan\n",
    "    if read.strand == '+':\n",
    "        return read.genomic_start_prev_read - read.genomic_end\n",
    "    elif read.strand == '-':\n",
    "        return read.genomic_start - read.genomic_end_prev_read\n",
    "\n",
    "\n",
    "def read_sequencing_summary(ss_fn, bam_fn):\n",
    "    ss = []\n",
    "    for fn in ss_fn:\n",
    "        #print(fn)\n",
    "        df = pd.read_csv(fn, sep='\\t')\n",
    "        ss.append(df)\n",
    "    ss = pd.concat(ss, axis=0)\n",
    "    ss = ss.sort_values(['channel', 'start_time'])\n",
    "    ss['end_time'] = ss['start_time'] + ss['duration']\n",
    "    ss['prev_read_id'] = ss.groupby('channel').read_id.shift(1)\n",
    "    ss['prev_end_time'] = ss.groupby('channel').end_time.shift(1)\n",
    "    ss['missing_signal_time'] = ss.start_time - ss.prev_end_time\n",
    "    mapped_loc = get_read_mapping_locs(bam_fn)\n",
    "    ss = ss.merge(mapped_loc, on='read_id', how='left')\n",
    "    ss = ss.merge(\n",
    "        mapped_loc,\n",
    "        left_on='prev_read_id',\n",
    "        right_on='read_id',\n",
    "        suffixes=('', '_prev_read'),\n",
    "        how='left'\n",
    "    ).drop('read_id_prev_read', axis=1)\n",
    "    ss['chrom_same_as_prev'] = ss.chrom == ss.chrom_prev_read\n",
    "    ss['strand_same_as_prev'] = ss.strand == ss.strand_prev_read\n",
    "    ss['genomic_dist_to_prev'] = ss.apply(get_dist_to_prev, axis=1)\n",
    "    return ss"
   ]
  },
  {
   "cell_type": "code",
   "execution_count": 30,
   "metadata": {},
   "outputs": [],
   "source": [
    "datasets = ['/public/home/mowp/test/nanopore_cdna/aligned_data/fhh.mm2.sorted.bam', ]\n",
    "\n",
    "sequencing_summaries= [['/public/home/mowp/test/nanopore_cdna/basecalled_data/sequencing_summary.txt'], ]"
   ]
  },
  {
   "cell_type": "code",
   "execution_count": 31,
   "metadata": {},
   "outputs": [
    {
     "name": "stdout",
     "output_type": "stream",
     "text": [
      "/public/home/mowp/test/nanopore_cdna/basecalled_data/sequencing_summary.txt\n"
     ]
    },
    {
     "name": "stderr",
     "output_type": "stream",
     "text": [
      "/public/home/mowp/miniconda3/lib/python3.7/site-packages/ipykernel_launcher.py:13: SettingWithCopyWarning: \n",
      "A value is trying to be set on a copy of a slice from a DataFrame.\n",
      "Try using .loc[row_indexer,col_indexer] = value instead\n",
      "\n",
      "See the caveats in the documentation: https://pandas.pydata.org/pandas-docs/stable/user_guide/indexing.html#returning-a-view-versus-a-copy\n",
      "  del sys.path[0]\n"
     ]
    }
   ],
   "source": [
    "oversplitting_res = {}\n",
    "oversplitting_stats = []\n",
    "for ss_fn, bam_fn in zip(sequencing_summaries, datasets):\n",
    "    sample_name = os.path.splitext(os.path.split(bam_fn)[1])[0]\n",
    "    ss = read_sequencing_summary(ss_fn, bam_fn)\n",
    "    ss_mapped_only = ss[~ss.chrom.isnull()]\n",
    "    is_oversplit = (\n",
    "        ss_mapped_only.chrom_same_as_prev & \n",
    "        ss_mapped_only.strand_same_as_prev & \n",
    "        (ss_mapped_only.genomic_dist_to_prev < 1000).fillna(False) &\n",
    "        (ss_mapped_only.genomic_dist_to_prev > -10).fillna(False)\n",
    "    )\n",
    "    ss_mapped_only['is_oversplit'] = is_oversplit\n",
    "    oversplitting_stats.append(\n",
    "        (sample_name,  is_oversplit.sum(), is_oversplit.sum() / len(is_oversplit) * 100)\n",
    "    )\n",
    "    oversplitting_res[sample_name] = ss_mapped_only\n",
    "\n",
    "oversplitting_stats = pd.DataFrame(oversplitting_stats, columns=['sample_name', 'total_oversplit', 'percent_oversplit'])"
   ]
  },
  {
   "cell_type": "code",
   "execution_count": 17,
   "metadata": {},
   "outputs": [
    {
     "data": {
      "text/html": [
       "<div>\n",
       "<style scoped>\n",
       "    .dataframe tbody tr th:only-of-type {\n",
       "        vertical-align: middle;\n",
       "    }\n",
       "\n",
       "    .dataframe tbody tr th {\n",
       "        vertical-align: top;\n",
       "    }\n",
       "\n",
       "    .dataframe thead th {\n",
       "        text-align: right;\n",
       "    }\n",
       "</style>\n",
       "<table border=\"1\" class=\"dataframe\">\n",
       "  <thead>\n",
       "    <tr style=\"text-align: right;\">\n",
       "      <th></th>\n",
       "      <th>sample_name</th>\n",
       "      <th>total_oversplit</th>\n",
       "      <th>percent_oversplit</th>\n",
       "    </tr>\n",
       "  </thead>\n",
       "  <tbody>\n",
       "    <tr>\n",
       "      <th>0</th>\n",
       "      <td>fhh.mm2.sorted</td>\n",
       "      <td>46</td>\n",
       "      <td>0.000673</td>\n",
       "    </tr>\n",
       "  </tbody>\n",
       "</table>\n",
       "</div>"
      ],
      "text/plain": [
       "      sample_name  total_oversplit  percent_oversplit\n",
       "0  fhh.mm2.sorted               46           0.000673"
      ]
     },
     "execution_count": 17,
     "metadata": {},
     "output_type": "execute_result"
    }
   ],
   "source": [
    "oversplitting_stats"
   ]
  },
  {
   "cell_type": "code",
   "execution_count": null,
   "metadata": {},
   "outputs": [],
   "source": []
  }
 ],
 "metadata": {
  "kernelspec": {
   "display_name": "Python 3",
   "language": "python",
   "name": "python3"
  },
  "language_info": {
   "codemirror_mode": {
    "name": "ipython",
    "version": 3
   },
   "file_extension": ".py",
   "mimetype": "text/x-python",
   "name": "python",
   "nbconvert_exporter": "python",
   "pygments_lexer": "ipython3",
   "version": "3.7.6"
  }
 },
 "nbformat": 4,
 "nbformat_minor": 4
}
