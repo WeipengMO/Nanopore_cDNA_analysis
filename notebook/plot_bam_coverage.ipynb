{
 "cells": [
  {
   "cell_type": "code",
   "execution_count": 1,
   "metadata": {},
   "outputs": [],
   "source": [
    "import pysam\n",
    "import numpy as np\n",
    "import pandas as pd\n",
    "from collections import defaultdict\n",
    "import matplotlib.pyplot as plt"
   ]
  },
  {
   "cell_type": "code",
   "execution_count": 30,
   "metadata": {},
   "outputs": [],
   "source": [
    "cds_bed = '/public/home/mowp/test/nanopore_cdna/supplementary_data/representative_cds/representative_cds.bed'\n",
    "BED_COLUMNS = ['seqid', 'start', 'end', 'transcipt_id',\n",
    "               'score', 'strand']\n",
    "cds_df = pd.read_csv(cds_bed, sep='\\t', comment='#', names=BED_COLUMNS)\n",
    "cds_df['gene_id'] = cds_df['transcipt_id'].map(lambda x: x.split('.')[0])\n",
    "cds_df = cds_df.set_index('gene_id')"
   ]
  },
  {
   "cell_type": "code",
   "execution_count": 57,
   "metadata": {},
   "outputs": [
    {
     "data": {
      "text/html": [
       "<div>\n",
       "<style scoped>\n",
       "    .dataframe tbody tr th:only-of-type {\n",
       "        vertical-align: middle;\n",
       "    }\n",
       "\n",
       "    .dataframe tbody tr th {\n",
       "        vertical-align: top;\n",
       "    }\n",
       "\n",
       "    .dataframe thead th {\n",
       "        text-align: right;\n",
       "    }\n",
       "</style>\n",
       "<table border=\"1\" class=\"dataframe\">\n",
       "  <thead>\n",
       "    <tr style=\"text-align: right;\">\n",
       "      <th></th>\n",
       "      <th>seqid</th>\n",
       "      <th>start</th>\n",
       "      <th>end</th>\n",
       "      <th>transcipt_id</th>\n",
       "      <th>score</th>\n",
       "      <th>strand</th>\n",
       "    </tr>\n",
       "    <tr>\n",
       "      <th>gene_id</th>\n",
       "      <th></th>\n",
       "      <th></th>\n",
       "      <th></th>\n",
       "      <th></th>\n",
       "      <th></th>\n",
       "      <th></th>\n",
       "    </tr>\n",
       "  </thead>\n",
       "  <tbody>\n",
       "    <tr>\n",
       "      <th>AT1G01010</th>\n",
       "      <td>1</td>\n",
       "      <td>3759</td>\n",
       "      <td>5630</td>\n",
       "      <td>AT1G01010.1</td>\n",
       "      <td>0</td>\n",
       "      <td>+</td>\n",
       "    </tr>\n",
       "    <tr>\n",
       "      <th>AT1G01020</th>\n",
       "      <td>1</td>\n",
       "      <td>6914</td>\n",
       "      <td>8666</td>\n",
       "      <td>AT1G01020.1</td>\n",
       "      <td>0</td>\n",
       "      <td>-</td>\n",
       "    </tr>\n",
       "    <tr>\n",
       "      <th>AT1G01030</th>\n",
       "      <td>1</td>\n",
       "      <td>11863</td>\n",
       "      <td>12940</td>\n",
       "      <td>AT1G01030.1</td>\n",
       "      <td>0</td>\n",
       "      <td>-</td>\n",
       "    </tr>\n",
       "    <tr>\n",
       "      <th>AT1G01040</th>\n",
       "      <td>1</td>\n",
       "      <td>23518</td>\n",
       "      <td>31079</td>\n",
       "      <td>AT1G01040.2</td>\n",
       "      <td>0</td>\n",
       "      <td>+</td>\n",
       "    </tr>\n",
       "    <tr>\n",
       "      <th>AT1G01050</th>\n",
       "      <td>1</td>\n",
       "      <td>31381</td>\n",
       "      <td>32670</td>\n",
       "      <td>AT1G01050.1</td>\n",
       "      <td>0</td>\n",
       "      <td>-</td>\n",
       "    </tr>\n",
       "  </tbody>\n",
       "</table>\n",
       "</div>"
      ],
      "text/plain": [
       "          seqid  start    end transcipt_id  score strand\n",
       "gene_id                                                 \n",
       "AT1G01010     1   3759   5630  AT1G01010.1      0      +\n",
       "AT1G01020     1   6914   8666  AT1G01020.1      0      -\n",
       "AT1G01030     1  11863  12940  AT1G01030.1      0      -\n",
       "AT1G01040     1  23518  31079  AT1G01040.2      0      +\n",
       "AT1G01050     1  31381  32670  AT1G01050.1      0      -"
      ]
     },
     "execution_count": 57,
     "metadata": {},
     "output_type": "execute_result"
    }
   ],
   "source": [
    "cds_df.head()"
   ]
  },
  {
   "cell_type": "code",
   "execution_count": 32,
   "metadata": {},
   "outputs": [],
   "source": [
    "cds_dict = cds_df.to_dict(orient='index')"
   ]
  },
  {
   "cell_type": "code",
   "execution_count": 33,
   "metadata": {},
   "outputs": [
    {
     "data": {
      "text/plain": [
       "{'seqid': '1',\n",
       " 'start': 3759,\n",
       " 'end': 5630,\n",
       " 'transcipt_id': 'AT1G01010.1',\n",
       " 'score': 0,\n",
       " 'strand': '+'}"
      ]
     },
     "execution_count": 33,
     "metadata": {},
     "output_type": "execute_result"
    }
   ],
   "source": [
    "cds_dict['AT1G01010']"
   ]
  },
  {
   "cell_type": "code",
   "execution_count": 110,
   "metadata": {},
   "outputs": [],
   "source": [
    "def norm_bam_cov(infile, before=100, after=100):\n",
    "    '''\n",
    "    将CDS区划分成100份进行均一化\n",
    "    before为cds上游100份\n",
    "    after为cds下游100份\n",
    "    '''\n",
    "    #infile = '/public/home/mowp/test/nanopore_cdna/full_length_transcripts/fhh.full_length.sorted.bam'\n",
    "    #norm_position = defaultdict(lambda: 0)\n",
    "    count = 0\n",
    "    norm_position = np.zeros(100+before+after)\n",
    "    with pysam.AlignmentFile(infile, 'rb') as inbam:\n",
    "        for read in inbam.fetch():\n",
    "            read_transcript_id = read.get_tags()[-2][1]\n",
    "            if read_transcript_id in cds_dict:\n",
    "                transcipt_len = cds_dict[read_transcript_id]['end']-cds_dict[read_transcript_id]['start']\n",
    "                if not read.is_reverse:\n",
    "                    norm_start = round((read.reference_start - cds_dict[read_transcript_id]['start']) / transcipt_len * 100)\n",
    "                    norm_end = round((read.reference_end - cds_dict[read_transcript_id]['start']) / transcipt_len * 100)\n",
    "                else:\n",
    "                    norm_start = round(((cds_dict[read_transcript_id]['end'] - read.reference_end) / transcipt_len) * 100)\n",
    "                    norm_end = round(((cds_dict[read_transcript_id]['end'] - read.reference_start) / transcipt_len) * 100)\n",
    "                \n",
    "                #count += 1\n",
    "                # 超过before和after范围的忽略\n",
    "                if norm_start+before < 0:\n",
    "                    norm_start = -before\n",
    "                if norm_end > 100+after-1:\n",
    "                    norm_end = 100-1\n",
    "                norm_position[norm_start+before: norm_end+after] += 1\n",
    "    return norm_position / sum(norm_position)"
   ]
  },
  {
   "cell_type": "code",
   "execution_count": 111,
   "metadata": {},
   "outputs": [],
   "source": [
    "full_length_bam = '/public/home/mowp/test/nanopore_cdna/full_length_transcripts/fhh.full_length.sorted.bam'\n",
    "full_length_cov = norm_bam_cov(full_length_bam)"
   ]
  },
  {
   "cell_type": "code",
   "execution_count": 112,
   "metadata": {},
   "outputs": [],
   "source": [
    "all_read_bam = '/public/home/mowp/test/nanopore_cdna/aligned_data/fhh.tagged.mm2.sorted.bam'\n",
    "all_read_cov = norm_bam_cov(tagged_bam)"
   ]
  },
  {
   "cell_type": "code",
   "execution_count": 113,
   "metadata": {},
   "outputs": [],
   "source": [
    "non_full_length_bam = '/public/home/mowp/test/nanopore_cdna/full_length_transcripts/fhh.non_full_length.sorted.bam'\n",
    "non_full_length_cov = norm_bam_cov(non_full_length_bam)"
   ]
  },
  {
   "cell_type": "code",
   "execution_count": 114,
   "metadata": {},
   "outputs": [
    {
     "data": {
      "image/png": "[encoded data removed]",
      "text/plain": [
       "<Figure size 432x216 with 1 Axes>"
      ]
     },
     "metadata": {
      "needs_background": "light"
     },
     "output_type": "display_data"
    }
   ],
   "source": [
    "plt.figure(figsize=(6, 3))\n",
    "plt.plot(all_read_cov, label='all reads')\n",
    "plt.plot(full_length_cov, label='full-length reads')\n",
    "plt.plot(non_full_length_cov, label='non-full-length reads')\n",
    "plt.legend()\n",
    "plt.show()"
   ]
  },
  {
   "cell_type": "code",
   "execution_count": 115,
   "metadata": {},
   "outputs": [],
   "source": [
    "! sendEmail.py"
   ]
  },
  {
   "cell_type": "code",
   "execution_count": 116,
   "metadata": {},
   "outputs": [],
   "source": [
    "a = {'1': 1, '2': 2, '3': 3}"
   ]
  },
  {
   "cell_type": "code",
   "execution_count": 118,
   "metadata": {},
   "outputs": [
    {
     "data": {
      "text/plain": [
       "{'1': 1, '2': 2, '3': 3}"
      ]
     },
     "execution_count": 118,
     "metadata": {},
     "output_type": "execute_result"
    }
   ],
   "source": [
    "dict(a)"
   ]
  },
  {
   "cell_type": "code",
   "execution_count": null,
   "metadata": {},
   "outputs": [],
   "source": []
  }
 ],
 "metadata": {
  "kernelspec": {
   "display_name": "Python 3",
   "language": "python",
   "name": "python3"
  },
  "language_info": {
   "codemirror_mode": {
    "name": "ipython",
    "version": 3
   },
   "file_extension": ".py",
   "mimetype": "text/x-python",
   "name": "python",
   "nbconvert_exporter": "python",
   "pygments_lexer": "ipython3",
   "version": "3.7.6"
  }
 },
 "nbformat": 4,
 "nbformat_minor": 4
}
