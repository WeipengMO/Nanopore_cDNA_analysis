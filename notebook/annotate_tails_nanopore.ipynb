{
 "cells": [
  {
   "cell_type": "code",
   "execution_count": 1,
   "metadata": {},
   "outputs": [],
   "source": [
    "import pandas as pd\n",
    "import subprocess\n",
    "import yaml\n",
    "from tempfile import TemporaryFile\n",
    "import pysam\n",
    "from collections import defaultdict\n",
    "import matplotlib.pyplot as plt\n",
    "import numpy as np"
   ]
  },
  {
   "cell_type": "markdown",
   "metadata": {},
   "source": [
    "# Annotate reads"
   ]
  },
  {
   "cell_type": "code",
   "execution_count": 4,
   "metadata": {},
   "outputs": [],
   "source": [
    "infile = '/public/home/mowp/test/nanopore_cdna/basecalled_data/fhh.fastq.gz'\n",
    "configure = 'config.yaml'\n",
    "ref = '/public/home/mowp/db/Arabidopsis_thaliana/isoform/araport11.isoform.fasta'\n",
    "gff_path = '/public/home/mowp/db/Arabidopsis_thaliana/gff3/Arabidopsis_thaliana.TAIR10.46.gff3'\n",
    "mm2thread = '40'"
   ]
  },
  {
   "cell_type": "code",
   "execution_count": 5,
   "metadata": {},
   "outputs": [],
   "source": [
    "'''\n",
    "将 basecalled read 与 araport11.isoform 比对，注释reads\n",
    "'''\n",
    "with TemporaryFile('w+t') as fp:\n",
    "    # run minimap2\n",
    "    proc = subprocess.run(\n",
    "            ['minimap2', '-ax', 'map-ont', '-t', mm2thread, \n",
    "             '--secondary=no', ref, infile], stdout=fp)\n",
    "    # Seek back to beginning\n",
    "    fp.seek(0)\n",
    "    samfile = pysam.AlignmentFile(fp, 'r')\n",
    "    samdict = defaultdict(lambda: None)\n",
    "    # filter unmapped read and keep the first result\n",
    "    for read in samfile.fetch():\n",
    "        if read.flag !=4 and read.query_name not in samdict:\n",
    "             samdict[read.query_name] = read.reference_name"
   ]
  },
  {
   "cell_type": "code",
   "execution_count": 9,
   "metadata": {},
   "outputs": [],
   "source": [
    "# mo result\n",
    "polyacaller_result = '/public/home/mowp/test/fast5_api/fhh.polyacaller.tsv'\n",
    "df = pd.read_csv(polyacaller_result, sep='\\t')"
   ]
  },
  {
   "cell_type": "code",
   "execution_count": 10,
   "metadata": {},
   "outputs": [],
   "source": [
    "df['transcript_id'] = df['read_id'].map(lambda x: samdict[x])"
   ]
  },
  {
   "cell_type": "code",
   "execution_count": 11,
   "metadata": {},
   "outputs": [],
   "source": [
    "df['gene_id'] = df['transcript_id'].map(lambda x: x.split('.')[0] if x else None)"
   ]
  },
  {
   "cell_type": "code",
   "execution_count": 14,
   "metadata": {},
   "outputs": [
    {
     "data": {
      "text/html": [
       "<div>\n",
       "<style scoped>\n",
       "    .dataframe tbody tr th:only-of-type {\n",
       "        vertical-align: middle;\n",
       "    }\n",
       "\n",
       "    .dataframe tbody tr th {\n",
       "        vertical-align: top;\n",
       "    }\n",
       "\n",
       "    .dataframe thead th {\n",
       "        text-align: right;\n",
       "    }\n",
       "</style>\n",
       "<table border=\"1\" class=\"dataframe\">\n",
       "  <thead>\n",
       "    <tr style=\"text-align: right;\">\n",
       "      <th></th>\n",
       "      <th>read_id</th>\n",
       "      <th>read_type</th>\n",
       "      <th>tail_start</th>\n",
       "      <th>tail_end</th>\n",
       "      <th>samples_per_nt</th>\n",
       "      <th>tail_length</th>\n",
       "      <th>transcript_id</th>\n",
       "      <th>gene_id</th>\n",
       "    </tr>\n",
       "  </thead>\n",
       "  <tbody>\n",
       "    <tr>\n",
       "      <th>0</th>\n",
       "      <td>761d15e0-3001-4569-857a-c0d271fcde63</td>\n",
       "      <td>polyT</td>\n",
       "      <td>1186</td>\n",
       "      <td>1266</td>\n",
       "      <td>10.255459</td>\n",
       "      <td>93.803704</td>\n",
       "      <td>AT1G15200.3</td>\n",
       "      <td>AT1G15200</td>\n",
       "    </tr>\n",
       "    <tr>\n",
       "      <th>1</th>\n",
       "      <td>827e58b8-ae39-4a46-8276-c484f7c3f416</td>\n",
       "      <td>polyA</td>\n",
       "      <td>6278</td>\n",
       "      <td>7046</td>\n",
       "      <td>9.959459</td>\n",
       "      <td>78.116689</td>\n",
       "      <td>AT4G10340.1</td>\n",
       "      <td>AT4G10340</td>\n",
       "    </tr>\n",
       "    <tr>\n",
       "      <th>2</th>\n",
       "      <td>d6f03b40-4b62-4196-b2c6-88c863a15dcd</td>\n",
       "      <td>polyA</td>\n",
       "      <td>5124</td>\n",
       "      <td>5534</td>\n",
       "      <td>8.652591</td>\n",
       "      <td>48.540373</td>\n",
       "      <td>AT1G70780.1</td>\n",
       "      <td>AT1G70780</td>\n",
       "    </tr>\n",
       "    <tr>\n",
       "      <th>3</th>\n",
       "      <td>8f17be18-c50e-4ab5-b431-87eb8236e483</td>\n",
       "      <td>polyA</td>\n",
       "      <td>13838</td>\n",
       "      <td>13846</td>\n",
       "      <td>9.690323</td>\n",
       "      <td>184.307590</td>\n",
       "      <td>AT5G18040.1</td>\n",
       "      <td>AT5G18040</td>\n",
       "    </tr>\n",
       "    <tr>\n",
       "      <th>4</th>\n",
       "      <td>b3c040ac-39b4-4c53-a9f0-4c0e05ca46eb</td>\n",
       "      <td>polyT</td>\n",
       "      <td>1316</td>\n",
       "      <td>2314</td>\n",
       "      <td>9.929329</td>\n",
       "      <td>102.323132</td>\n",
       "      <td>AT3G60245.1</td>\n",
       "      <td>AT3G60245</td>\n",
       "    </tr>\n",
       "    <tr>\n",
       "      <th>...</th>\n",
       "      <td>...</td>\n",
       "      <td>...</td>\n",
       "      <td>...</td>\n",
       "      <td>...</td>\n",
       "      <td>...</td>\n",
       "      <td>...</td>\n",
       "      <td>...</td>\n",
       "      <td>...</td>\n",
       "    </tr>\n",
       "    <tr>\n",
       "      <th>5709012</th>\n",
       "      <td>5b5d4055-8c20-4a54-ab6a-5bf12f6c2462</td>\n",
       "      <td>polyT</td>\n",
       "      <td>1292</td>\n",
       "      <td>2476</td>\n",
       "      <td>9.206349</td>\n",
       "      <td>131.213793</td>\n",
       "      <td>AT1G34380.2</td>\n",
       "      <td>AT1G34380</td>\n",
       "    </tr>\n",
       "    <tr>\n",
       "      <th>5709013</th>\n",
       "      <td>6a85f4ef-dbc2-4ea5-97ad-311afcc8aab3</td>\n",
       "      <td>polyT</td>\n",
       "      <td>902</td>\n",
       "      <td>1642</td>\n",
       "      <td>8.966154</td>\n",
       "      <td>84.317090</td>\n",
       "      <td>AT1G30380.1</td>\n",
       "      <td>AT1G30380</td>\n",
       "    </tr>\n",
       "    <tr>\n",
       "      <th>5709014</th>\n",
       "      <td>c98ef2e5-8473-4345-8426-61c9da686d9b</td>\n",
       "      <td>polyA</td>\n",
       "      <td>15710</td>\n",
       "      <td>16262</td>\n",
       "      <td>10.410385</td>\n",
       "      <td>389.034594</td>\n",
       "      <td>AT1G13440.1</td>\n",
       "      <td>AT1G13440</td>\n",
       "    </tr>\n",
       "    <tr>\n",
       "      <th>5709015</th>\n",
       "      <td>fd7bbc52-6683-4b85-a148-3f20650adec4</td>\n",
       "      <td>polyA</td>\n",
       "      <td>14658</td>\n",
       "      <td>15366</td>\n",
       "      <td>8.905473</td>\n",
       "      <td>100.387709</td>\n",
       "      <td>AT4G24220.1</td>\n",
       "      <td>AT4G24220</td>\n",
       "    </tr>\n",
       "    <tr>\n",
       "      <th>5709016</th>\n",
       "      <td>8d80a1ad-153f-4a1c-8471-684901bd0bcc</td>\n",
       "      <td>polyT</td>\n",
       "      <td>1416</td>\n",
       "      <td>2508</td>\n",
       "      <td>9.008658</td>\n",
       "      <td>123.436809</td>\n",
       "      <td>AT5G07890.4</td>\n",
       "      <td>AT5G07890</td>\n",
       "    </tr>\n",
       "  </tbody>\n",
       "</table>\n",
       "<p>5709017 rows × 8 columns</p>\n",
       "</div>"
      ],
      "text/plain": [
       "                                      read_id read_type  tail_start  tail_end  \\\n",
       "0        761d15e0-3001-4569-857a-c0d271fcde63     polyT        1186      1266   \n",
       "1        827e58b8-ae39-4a46-8276-c484f7c3f416     polyA        6278      7046   \n",
       "2        d6f03b40-4b62-4196-b2c6-88c863a15dcd     polyA        5124      5534   \n",
       "3        8f17be18-c50e-4ab5-b431-87eb8236e483     polyA       13838     13846   \n",
       "4        b3c040ac-39b4-4c53-a9f0-4c0e05ca46eb     polyT        1316      2314   \n",
       "...                                       ...       ...         ...       ...   \n",
       "5709012  5b5d4055-8c20-4a54-ab6a-5bf12f6c2462     polyT        1292      2476   \n",
       "5709013  6a85f4ef-dbc2-4ea5-97ad-311afcc8aab3     polyT         902      1642   \n",
       "5709014  c98ef2e5-8473-4345-8426-61c9da686d9b     polyA       15710     16262   \n",
       "5709015  fd7bbc52-6683-4b85-a148-3f20650adec4     polyA       14658     15366   \n",
       "5709016  8d80a1ad-153f-4a1c-8471-684901bd0bcc     polyT        1416      2508   \n",
       "\n",
       "         samples_per_nt  tail_length transcript_id    gene_id  \n",
       "0             10.255459    93.803704   AT1G15200.3  AT1G15200  \n",
       "1              9.959459    78.116689   AT4G10340.1  AT4G10340  \n",
       "2              8.652591    48.540373   AT1G70780.1  AT1G70780  \n",
       "3              9.690323   184.307590   AT5G18040.1  AT5G18040  \n",
       "4              9.929329   102.323132   AT3G60245.1  AT3G60245  \n",
       "...                 ...          ...           ...        ...  \n",
       "5709012        9.206349   131.213793   AT1G34380.2  AT1G34380  \n",
       "5709013        8.966154    84.317090   AT1G30380.1  AT1G30380  \n",
       "5709014       10.410385   389.034594   AT1G13440.1  AT1G13440  \n",
       "5709015        8.905473   100.387709   AT4G24220.1  AT4G24220  \n",
       "5709016        9.008658   123.436809   AT5G07890.4  AT5G07890  \n",
       "\n",
       "[5709017 rows x 8 columns]"
      ]
     },
     "execution_count": 14,
     "metadata": {},
     "output_type": "execute_result"
    }
   ],
   "source": [
    "df"
   ]
  },
  {
   "cell_type": "code",
   "execution_count": 22,
   "metadata": {},
   "outputs": [
    {
     "data": {
      "text/html": [
       "<div>\n",
       "<style scoped>\n",
       "    .dataframe tbody tr th:only-of-type {\n",
       "        vertical-align: middle;\n",
       "    }\n",
       "\n",
       "    .dataframe tbody tr th {\n",
       "        vertical-align: top;\n",
       "    }\n",
       "\n",
       "    .dataframe thead th {\n",
       "        text-align: right;\n",
       "    }\n",
       "</style>\n",
       "<table border=\"1\" class=\"dataframe\">\n",
       "  <thead>\n",
       "    <tr style=\"text-align: right;\">\n",
       "      <th></th>\n",
       "      <th>read_id</th>\n",
       "      <th>read_type</th>\n",
       "      <th>tail_start</th>\n",
       "      <th>tail_end</th>\n",
       "      <th>samples_per_nt</th>\n",
       "      <th>tail_length</th>\n",
       "      <th>transcript_id</th>\n",
       "      <th>gene_id</th>\n",
       "    </tr>\n",
       "  </thead>\n",
       "  <tbody>\n",
       "    <tr>\n",
       "      <th>206</th>\n",
       "      <td>4d6c098a-e098-423a-a315-6c45a3b51b28</td>\n",
       "      <td>polyA</td>\n",
       "      <td>2334</td>\n",
       "      <td>2706</td>\n",
       "      <td>9.648069</td>\n",
       "      <td>88.722420</td>\n",
       "      <td>None</td>\n",
       "      <td>None</td>\n",
       "    </tr>\n",
       "    <tr>\n",
       "      <th>206</th>\n",
       "      <td>4d6c098a-e098-423a-a315-6c45a3b51b28</td>\n",
       "      <td>polyA</td>\n",
       "      <td>2334</td>\n",
       "      <td>2706</td>\n",
       "      <td>9.648069</td>\n",
       "      <td>88.722420</td>\n",
       "      <td>None</td>\n",
       "      <td>None</td>\n",
       "    </tr>\n",
       "    <tr>\n",
       "      <th>238</th>\n",
       "      <td>558d297a-c033-4663-9696-525c96f2946e</td>\n",
       "      <td>polyT</td>\n",
       "      <td>2288</td>\n",
       "      <td>2924</td>\n",
       "      <td>10.660920</td>\n",
       "      <td>61.533154</td>\n",
       "      <td>None</td>\n",
       "      <td>None</td>\n",
       "    </tr>\n",
       "    <tr>\n",
       "      <th>238</th>\n",
       "      <td>558d297a-c033-4663-9696-525c96f2946e</td>\n",
       "      <td>polyT</td>\n",
       "      <td>2288</td>\n",
       "      <td>2924</td>\n",
       "      <td>10.660920</td>\n",
       "      <td>61.533154</td>\n",
       "      <td>None</td>\n",
       "      <td>None</td>\n",
       "    </tr>\n",
       "    <tr>\n",
       "      <th>482</th>\n",
       "      <td>2906fc63-1f54-4a89-8b59-d2c090c0b52b</td>\n",
       "      <td>polyT</td>\n",
       "      <td>1034</td>\n",
       "      <td>2158</td>\n",
       "      <td>10.646067</td>\n",
       "      <td>106.518206</td>\n",
       "      <td>None</td>\n",
       "      <td>None</td>\n",
       "    </tr>\n",
       "    <tr>\n",
       "      <th>...</th>\n",
       "      <td>...</td>\n",
       "      <td>...</td>\n",
       "      <td>...</td>\n",
       "      <td>...</td>\n",
       "      <td>...</td>\n",
       "      <td>...</td>\n",
       "      <td>...</td>\n",
       "      <td>...</td>\n",
       "    </tr>\n",
       "    <tr>\n",
       "      <th>5708549</th>\n",
       "      <td>15fd8df1-6ed4-4327-ac3c-199eb5fb137e</td>\n",
       "      <td>polyT</td>\n",
       "      <td>1038</td>\n",
       "      <td>1040</td>\n",
       "      <td>9.765182</td>\n",
       "      <td>2.457711</td>\n",
       "      <td>None</td>\n",
       "      <td>None</td>\n",
       "    </tr>\n",
       "    <tr>\n",
       "      <th>5708663</th>\n",
       "      <td>42e51210-0bbc-40d5-a534-c23c37e89d68</td>\n",
       "      <td>polyA</td>\n",
       "      <td>5180</td>\n",
       "      <td>6306</td>\n",
       "      <td>9.484848</td>\n",
       "      <td>122.300319</td>\n",
       "      <td>None</td>\n",
       "      <td>None</td>\n",
       "    </tr>\n",
       "    <tr>\n",
       "      <th>5708663</th>\n",
       "      <td>42e51210-0bbc-40d5-a534-c23c37e89d68</td>\n",
       "      <td>polyA</td>\n",
       "      <td>5180</td>\n",
       "      <td>6306</td>\n",
       "      <td>9.484848</td>\n",
       "      <td>122.300319</td>\n",
       "      <td>None</td>\n",
       "      <td>None</td>\n",
       "    </tr>\n",
       "    <tr>\n",
       "      <th>5708883</th>\n",
       "      <td>e4740ef4-1bbb-487e-b409-58c5e85dfa1f</td>\n",
       "      <td>polyA</td>\n",
       "      <td>5584</td>\n",
       "      <td>6610</td>\n",
       "      <td>9.314410</td>\n",
       "      <td>111.440225</td>\n",
       "      <td>None</td>\n",
       "      <td>None</td>\n",
       "    </tr>\n",
       "    <tr>\n",
       "      <th>5708883</th>\n",
       "      <td>e4740ef4-1bbb-487e-b409-58c5e85dfa1f</td>\n",
       "      <td>polyA</td>\n",
       "      <td>5584</td>\n",
       "      <td>6610</td>\n",
       "      <td>9.314410</td>\n",
       "      <td>111.440225</td>\n",
       "      <td>None</td>\n",
       "      <td>None</td>\n",
       "    </tr>\n",
       "  </tbody>\n",
       "</table>\n",
       "<p>65176 rows × 8 columns</p>\n",
       "</div>"
      ],
      "text/plain": [
       "                                      read_id read_type  tail_start  tail_end  \\\n",
       "206      4d6c098a-e098-423a-a315-6c45a3b51b28     polyA        2334      2706   \n",
       "206      4d6c098a-e098-423a-a315-6c45a3b51b28     polyA        2334      2706   \n",
       "238      558d297a-c033-4663-9696-525c96f2946e     polyT        2288      2924   \n",
       "238      558d297a-c033-4663-9696-525c96f2946e     polyT        2288      2924   \n",
       "482      2906fc63-1f54-4a89-8b59-d2c090c0b52b     polyT        1034      2158   \n",
       "...                                       ...       ...         ...       ...   \n",
       "5708549  15fd8df1-6ed4-4327-ac3c-199eb5fb137e     polyT        1038      1040   \n",
       "5708663  42e51210-0bbc-40d5-a534-c23c37e89d68     polyA        5180      6306   \n",
       "5708663  42e51210-0bbc-40d5-a534-c23c37e89d68     polyA        5180      6306   \n",
       "5708883  e4740ef4-1bbb-487e-b409-58c5e85dfa1f     polyA        5584      6610   \n",
       "5708883  e4740ef4-1bbb-487e-b409-58c5e85dfa1f     polyA        5584      6610   \n",
       "\n",
       "         samples_per_nt  tail_length transcript_id gene_id  \n",
       "206            9.648069    88.722420          None    None  \n",
       "206            9.648069    88.722420          None    None  \n",
       "238           10.660920    61.533154          None    None  \n",
       "238           10.660920    61.533154          None    None  \n",
       "482           10.646067   106.518206          None    None  \n",
       "...                 ...          ...           ...     ...  \n",
       "5708549        9.765182     2.457711          None    None  \n",
       "5708663        9.484848   122.300319          None    None  \n",
       "5708663        9.484848   122.300319          None    None  \n",
       "5708883        9.314410   111.440225          None    None  \n",
       "5708883        9.314410   111.440225          None    None  \n",
       "\n",
       "[65176 rows x 8 columns]"
      ]
     },
     "execution_count": 22,
     "metadata": {},
     "output_type": "execute_result"
    }
   ],
   "source": [
    "df[df.isnull().values==True]"
   ]
  },
  {
   "cell_type": "markdown",
   "metadata": {},
   "source": [
    "# polyA result summary"
   ]
  },
  {
   "cell_type": "code",
   "execution_count": 13,
   "metadata": {},
   "outputs": [],
   "source": [
    "df.to_csv('fhh.polyacaller.ann.tsv', sep='\\t', index=False)"
   ]
  },
  {
   "cell_type": "code",
   "execution_count": 15,
   "metadata": {},
   "outputs": [
    {
     "data": {
      "text/plain": [
       "AT1G67090    108054\n",
       "AT1G29930     66416\n",
       "AT5G38410     52652\n",
       "AT5G24780     31752\n",
       "AT2G38540     31700\n",
       "              ...  \n",
       "AT1G02550         1\n",
       "AT2G29160         1\n",
       "AT2G09380         1\n",
       "AT2G29820         1\n",
       "AT1G04257         1\n",
       "Name: gene_id, Length: 24817, dtype: int64"
      ]
     },
     "execution_count": 15,
     "metadata": {},
     "output_type": "execute_result"
    }
   ],
   "source": [
    "gene_count = df['gene_id'].value_counts()\n",
    "gene_count"
   ]
  },
  {
   "cell_type": "code",
   "execution_count": 16,
   "metadata": {},
   "outputs": [],
   "source": [
    "tail_median_length = df.groupby(['gene_id']).median()['tail_length']"
   ]
  },
  {
   "cell_type": "code",
   "execution_count": 17,
   "metadata": {},
   "outputs": [
    {
     "data": {
      "image/png": "[encoded data removed]",
      "text/plain": [
       "<Figure size 432x288 with 1 Axes>"
      ]
     },
     "metadata": {
      "needs_background": "light"
     },
     "output_type": "display_data"
    }
   ],
   "source": [
    "# 每个基因的polyA长度分布\n",
    "tail_median_length[gene_count>=10].hist(bins=40)\n",
    "plt.xlabel('Median poly(A) tail length (nt)')\n",
    "plt.ylabel('Counts')\n",
    "plt.show()"
   ]
  },
  {
   "cell_type": "code",
   "execution_count": 18,
   "metadata": {},
   "outputs": [
    {
     "data": {
      "text/plain": [
       "105.36617829166664"
      ]
     },
     "execution_count": 18,
     "metadata": {},
     "output_type": "execute_result"
    }
   ],
   "source": [
    "tail_median_length[gene_count>=10].median()"
   ]
  },
  {
   "cell_type": "code",
   "execution_count": 19,
   "metadata": {},
   "outputs": [
    {
     "data": {
      "image/png": "[encoded data removed]",
      "text/plain": [
       "<Figure size 432x288 with 1 Axes>"
      ]
     },
     "metadata": {
      "needs_background": "light"
     },
     "output_type": "display_data"
    }
   ],
   "source": [
    "# 所有reads的polyA长度分布\n",
    "MIN=df['tail_length'].min()\n",
    "MAX=df['tail_length'].max()\n",
    "df['tail_length'].hist(bins=10**np.linspace(np.log10(MIN), np.log10(MAX), 40))\n",
    "plt.xscale('log')\n",
    "plt.show()"
   ]
  },
  {
   "cell_type": "markdown",
   "metadata": {},
   "source": [
    "# Parse GFF3 file"
   ]
  },
  {
   "cell_type": "code",
   "execution_count": 17,
   "metadata": {},
   "outputs": [],
   "source": [
    "def parse_attribute(attr):\n",
    "    '''get gene_id from attribute\n",
    "    '''\n",
    "    for item in attr.split(';'):\n",
    "        key, value = item.split('=')\n",
    "        if key == 'ID':\n",
    "            return value.replace('gene:', '')\n",
    "        \n",
    "def get_gene_is_reverse():\n",
    "    GFF_COLUMNS = ['seqid', 'source', 'type', 'start', 'end', \n",
    "                   'score', 'strand', 'phase', 'attribute']\n",
    "    gff_df = pd.read_csv(gff_path, sep='\\t', comment='#', names=GFF_COLUMNS)\n",
    "    # keep type = 'gene'\n",
    "    gff_df = gff_df[gff_df['type'].isin(['gene'])]\n",
    "    # get gene_id\n",
    "    gff_df['gene_id'] = gff_df['attribute'].map(parse_attribute)\n",
    "    gff_df['is_reverse'] = gff_df['strand'].map(lambda x: False if x=='+' else True)\n",
    "    \n",
    "    return gff_df.set_index('gene_id')['is_reverse'].T.to_dict()"
   ]
  },
  {
   "cell_type": "code",
   "execution_count": 18,
   "metadata": {},
   "outputs": [
    {
     "name": "stderr",
     "output_type": "stream",
     "text": [
      "/public/home/mowp/miniconda3/envs/nano/lib/python3.7/site-packages/IPython/core/interactiveshell.py:3254: DtypeWarning: Columns (0) have mixed types.Specify dtype option on import or set low_memory=False.\n",
      "  if (await self.run_code(code, result,  async_=asy)):\n"
     ]
    }
   ],
   "source": [
    "gene_is_reverse_dict = get_gene_is_reverse()"
   ]
  },
  {
   "cell_type": "code",
   "execution_count": 19,
   "metadata": {},
   "outputs": [
    {
     "data": {
      "text/plain": [
       "True"
      ]
     },
     "execution_count": 19,
     "metadata": {},
     "output_type": "execute_result"
    }
   ],
   "source": [
    "gene_is_reverse_dict['AT1G15200']"
   ]
  },
  {
   "cell_type": "code",
   "execution_count": null,
   "metadata": {},
   "outputs": [],
   "source": []
  }
 ],
 "metadata": {
  "kernelspec": {
   "display_name": "nano",
   "language": "python",
   "name": "nano"
  },
  "language_info": {
   "codemirror_mode": {
    "name": "ipython",
    "version": 3
   },
   "file_extension": ".py",
   "mimetype": "text/x-python",
   "name": "python",
   "nbconvert_exporter": "python",
   "pygments_lexer": "ipython3",
   "version": "3.7.6"
  }
 },
 "nbformat": 4,
 "nbformat_minor": 4
}
