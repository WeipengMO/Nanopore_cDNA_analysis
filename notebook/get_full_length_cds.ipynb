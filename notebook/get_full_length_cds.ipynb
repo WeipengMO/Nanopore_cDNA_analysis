{
 "cells": [
  {
   "cell_type": "code",
   "execution_count": 1,
   "metadata": {},
   "outputs": [],
   "source": [
    "import pysam\n",
    "import pandas as pd"
   ]
  },
  {
   "cell_type": "code",
   "execution_count": 2,
   "metadata": {},
   "outputs": [
    {
     "name": "stderr",
     "output_type": "stream",
     "text": [
      "/public/home/mowp/miniconda3/lib/python3.7/site-packages/IPython/core/interactiveshell.py:3063: DtypeWarning: Columns (0) have mixed types.Specify dtype option on import or set low_memory=False.\n",
      "  interactivity=interactivity, compiler=compiler, result=result)\n"
     ]
    }
   ],
   "source": [
    "gff_path = '/public/home/mowp/db/Arabidopsis_thaliana/gff3/Arabidopsis_thaliana.TAIR10.46.gff3'\n",
    "\n",
    "GFF_COLUMNS = ['seqid', 'source', 'type', 'start', 'end', \n",
    "               'score', 'strand', 'phase', 'attribute']\n",
    "gff_df = pd.read_csv(gff_path, sep='\\t', comment='#', names=GFF_COLUMNS)\n",
    "\n",
    "rep_gene_path = '/public/home/lab-zhai/alldata/genome/ath/Araport11/represent.protein.id.txt'\n",
    "representative_gene_model = pd.read_csv(rep_gene_path, comment='#', header=None, sep='\\t')\n",
    "representative_gene_model = set(representative_gene_model[1])"
   ]
  },
  {
   "cell_type": "code",
   "execution_count": null,
   "metadata": {},
   "outputs": [],
   "source": [
    "cds_df = gff_df[gff_df['type'].isin(['CDS'])]"
   ]
  },
  {
   "cell_type": "code",
   "execution_count": 6,
   "metadata": {},
   "outputs": [
    {
     "data": {
      "text/plain": [
       "'ID=CDS:AT1G01010.1;Parent=transcript:AT1G01010.1;protein_id=AT1G01010.1'"
      ]
     },
     "execution_count": 6,
     "metadata": {},
     "output_type": "execute_result"
    }
   ],
   "source": [
    "cds_df.iloc[0][8]"
   ]
  },
  {
   "cell_type": "code",
   "execution_count": 7,
   "metadata": {},
   "outputs": [],
   "source": [
    "def get_transcript_id(attr):\n",
    "    '''get transcript_id from attribute\n",
    "    '''\n",
    "    for item in attr.split(';'):\n",
    "        key, value = item.split('=')\n",
    "        if key == 'Parent':\n",
    "            return value.replace('transcript:', '')"
   ]
  },
  {
   "cell_type": "code",
   "execution_count": 8,
   "metadata": {},
   "outputs": [
    {
     "name": "stderr",
     "output_type": "stream",
     "text": [
      "/public/home/mowp/miniconda3/lib/python3.7/site-packages/ipykernel_launcher.py:1: SettingWithCopyWarning: \n",
      "A value is trying to be set on a copy of a slice from a DataFrame.\n",
      "Try using .loc[row_indexer,col_indexer] = value instead\n",
      "\n",
      "See the caveats in the documentation: https://pandas.pydata.org/pandas-docs/stable/user_guide/indexing.html#returning-a-view-versus-a-copy\n",
      "  \"\"\"Entry point for launching an IPython kernel.\n"
     ]
    }
   ],
   "source": [
    "cds_df['transcript_id'] = cds_df['attribute'].map(get_transcript_id)"
   ]
  },
  {
   "cell_type": "code",
   "execution_count": 15,
   "metadata": {},
   "outputs": [],
   "source": [
    "representative_cds_model =  cds_df[cds_df['transcript_id'].isin(representative_gene_model)]"
   ]
  },
  {
   "cell_type": "code",
   "execution_count": 33,
   "metadata": {},
   "outputs": [
    {
     "name": "stdout",
     "output_type": "stream",
     "text": [
      "1\t3759\t5630\tAT1G01010.1\t0\t+\n",
      "1\t6914\t8666\tAT1G01020.1\t0\t-\n",
      "1\t11863\t12940\tAT1G01020.1\t0\t-\n",
      "1\t23518\t31079\tAT1G01040.2\t0\t+\n",
      "1\t31381\t32670\tAT1G01050.1\t0\t-\n",
      "1\t33991\t37061\tAT1G01060.1\t0\t-\n",
      "1\t38897\t40877\tAT1G01070.1\t0\t-\n",
      "1\t45502\t46789\tAT1G01080.2\t0\t-\n",
      "1\t47704\t49166\tAT1G01090.1\t0\t-\n",
      "1\t50283\t50954\tAT1G01100.1\t0\t-\n",
      "1\t52238\t54494\tAT1G01110.2\t0\t+\n"
     ]
    }
   ],
   "source": [
    "curr_transcript_id = ''\n",
    "start_list, end_list = [], [] \n",
    "n = 0\n",
    "for item in representative_cds_model.itertuples():\n",
    "    if curr_transcript_id == '':\n",
    "        curr_transcript_id = item.transcript_id\n",
    "    if curr_transcript_id == item.transcript_id:\n",
    "        start_list.append(item.start)\n",
    "        end_list.append(item.end)\n",
    "        curr_item = item\n",
    "    else:\n",
    "        print(f'{curr_item.seqid}\\t{min(start_list)-1}\\t{max(end_list)}\\t{curr_item.transcript_id}\\t0\\t{curr_item.strand}')\n",
    "        start_list.clear()\n",
    "        end_list.clear()\n",
    "        curr_transcript_id = item.transcript_id\n",
    "        start_list.append(item.start)\n",
    "        end_list.append(item.end)\n",
    "        n += 1"
   ]
  },
  {
   "cell_type": "code",
   "execution_count": 27,
   "metadata": {},
   "outputs": [
    {
     "data": {
      "text/plain": [
       "3760"
      ]
     },
     "execution_count": 27,
     "metadata": {},
     "output_type": "execute_result"
    }
   ],
   "source": [
    "i.start"
   ]
  },
  {
   "cell_type": "code",
   "execution_count": null,
   "metadata": {},
   "outputs": [],
   "source": []
  }
 ],
 "metadata": {
  "kernelspec": {
   "display_name": "Python 3",
   "language": "python",
   "name": "python3"
  },
  "language_info": {
   "codemirror_mode": {
    "name": "ipython",
    "version": 3
   },
   "file_extension": ".py",
   "mimetype": "text/x-python",
   "name": "python",
   "nbconvert_exporter": "python",
   "pygments_lexer": "ipython3",
   "version": "3.7.6"
  }
 },
 "nbformat": 4,
 "nbformat_minor": 4
}
